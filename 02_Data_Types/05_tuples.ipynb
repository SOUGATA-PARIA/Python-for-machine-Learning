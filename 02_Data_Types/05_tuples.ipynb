{
 "cells": [
  {
   "cell_type": "markdown",
   "id": "8547c990-1be4-49ef-b916-7669158c2230",
   "metadata": {},
   "source": [
    "## Tuples in python"
   ]
  },
  {
   "cell_type": "code",
   "execution_count": 2,
   "id": "5d1ed8b1-aeae-495c-a1e8-86718e543249",
   "metadata": {},
   "outputs": [
    {
     "name": "stdout",
     "output_type": "stream",
     "text": [
      "('Black', 'Green', 'Oolong')\n"
     ]
    }
   ],
   "source": [
    "tea_types = (\"Black\", \"Green\", \"Oolong\")\n",
    "print(tea_types)"
   ]
  },
  {
   "cell_type": "code",
   "execution_count": 4,
   "id": "3d461cd5-1a18-4df9-8e19-aa92e702c58a",
   "metadata": {},
   "outputs": [
    {
     "data": {
      "text/plain": [
       "'Black'"
      ]
     },
     "execution_count": 4,
     "metadata": {},
     "output_type": "execute_result"
    }
   ],
   "source": [
    "tea_types[0]"
   ]
  },
  {
   "cell_type": "code",
   "execution_count": 6,
   "id": "f5c173a8-ac7c-4a2a-be96-974be7cf4556",
   "metadata": {},
   "outputs": [
    {
     "data": {
      "text/plain": [
       "'Oolong'"
      ]
     },
     "execution_count": 6,
     "metadata": {},
     "output_type": "execute_result"
    }
   ],
   "source": [
    "tea_types[-1]"
   ]
  },
  {
   "cell_type": "code",
   "execution_count": 8,
   "id": "5b81ff54-8b24-4a02-9e4c-334df0d1e88c",
   "metadata": {},
   "outputs": [
    {
     "data": {
      "text/plain": [
       "('Green', 'Oolong')"
      ]
     },
     "execution_count": 8,
     "metadata": {},
     "output_type": "execute_result"
    }
   ],
   "source": [
    "tea_types[1:]"
   ]
  },
  {
   "cell_type": "code",
   "execution_count": 10,
   "id": "be9afa93-58f2-49c8-9020-ec26232052a0",
   "metadata": {},
   "outputs": [
    {
     "data": {
      "text/plain": [
       "'Black'"
      ]
     },
     "execution_count": 10,
     "metadata": {},
     "output_type": "execute_result"
    }
   ],
   "source": [
    "tea_types[0]"
   ]
  },
  {
   "cell_type": "code",
   "execution_count": 12,
   "id": "2c9f2a67-80d1-412b-9790-222cec0593d5",
   "metadata": {},
   "outputs": [
    {
     "ename": "TypeError",
     "evalue": "'tuple' object does not support item assignment",
     "output_type": "error",
     "traceback": [
      "\u001b[1;31m---------------------------------------------------------------------------\u001b[0m",
      "\u001b[1;31mTypeError\u001b[0m                                 Traceback (most recent call last)",
      "Cell \u001b[1;32mIn[12], line 1\u001b[0m\n\u001b[1;32m----> 1\u001b[0m tea_types[\u001b[38;5;241m0\u001b[39m] \u001b[38;5;241m=\u001b[39m \u001b[38;5;124m\"\u001b[39m\u001b[38;5;124mLemon\u001b[39m\u001b[38;5;124m\"\u001b[39m\n",
      "\u001b[1;31mTypeError\u001b[0m: 'tuple' object does not support item assignment"
     ]
    }
   ],
   "source": [
    "tea_types[0] = \"Lemon\""
   ]
  },
  {
   "cell_type": "code",
   "execution_count": 14,
   "id": "f5596eba-d443-45fa-9330-c39078dbc2ec",
   "metadata": {},
   "outputs": [
    {
     "name": "stdout",
     "output_type": "stream",
     "text": [
      "3\n"
     ]
    }
   ],
   "source": [
    "print(len(tea_types))"
   ]
  },
  {
   "cell_type": "code",
   "execution_count": 16,
   "id": "a57d3fc1-3567-44ef-9ec9-bba133d19401",
   "metadata": {},
   "outputs": [
    {
     "name": "stdout",
     "output_type": "stream",
     "text": [
      "('Herbal', 'Earl Grey', 'Black', 'Green', 'Oolong')\n"
     ]
    }
   ],
   "source": [
    "more_tea = (\"Herbal\", \"Earl Grey\")\n",
    "all_tea = more_tea + tea_types\n",
    "print(all_tea)"
   ]
  },
  {
   "cell_type": "code",
   "execution_count": 18,
   "id": "42efdde3-19fc-4a99-b58e-50ebcd4e931e",
   "metadata": {},
   "outputs": [
    {
     "name": "stdout",
     "output_type": "stream",
     "text": [
      "I love green tea\n"
     ]
    }
   ],
   "source": [
    "if \"Green\" in all_tea:\n",
    "    print(\"I love green tea\")"
   ]
  },
  {
   "cell_type": "code",
   "execution_count": 20,
   "id": "93c0027e-769a-4217-95d3-0fc0294e66dc",
   "metadata": {},
   "outputs": [
    {
     "data": {
      "text/plain": [
       "2"
      ]
     },
     "execution_count": 20,
     "metadata": {},
     "output_type": "execute_result"
    }
   ],
   "source": [
    "more_tea = (\"Herbal\", \"Earl Grey\", \"Herbal\")\n",
    "more_tea.count(\"Herbal\")"
   ]
  },
  {
   "cell_type": "code",
   "execution_count": 22,
   "id": "d8cbaa1a-b899-4ca9-862e-da680d37c6ea",
   "metadata": {},
   "outputs": [],
   "source": [
    "(black, green, Oolong) = tea_types"
   ]
  },
  {
   "cell_type": "code",
   "execution_count": 24,
   "id": "5c92cf1f-839b-480b-b78c-7d299247f3ca",
   "metadata": {},
   "outputs": [
    {
     "data": {
      "text/plain": [
       "'Black'"
      ]
     },
     "execution_count": 24,
     "metadata": {},
     "output_type": "execute_result"
    }
   ],
   "source": [
    "black"
   ]
  },
  {
   "cell_type": "code",
   "execution_count": 26,
   "id": "a832183a-4e7a-4c47-be0d-a754be97197a",
   "metadata": {},
   "outputs": [
    {
     "data": {
      "text/plain": [
       "tuple"
      ]
     },
     "execution_count": 26,
     "metadata": {},
     "output_type": "execute_result"
    }
   ],
   "source": [
    "type(tea_types)"
   ]
  },
  {
   "cell_type": "code",
   "execution_count": null,
   "id": "be2b0d0d-5b24-4dc4-a2ea-d17551c338e5",
   "metadata": {},
   "outputs": [],
   "source": []
  }
 ],
 "metadata": {
  "kernelspec": {
   "display_name": "Python 3 (ipykernel)",
   "language": "python",
   "name": "python3"
  },
  "language_info": {
   "codemirror_mode": {
    "name": "ipython",
    "version": 3
   },
   "file_extension": ".py",
   "mimetype": "text/x-python",
   "name": "python",
   "nbconvert_exporter": "python",
   "pygments_lexer": "ipython3",
   "version": "3.12.4"
  }
 },
 "nbformat": 4,
 "nbformat_minor": 5
}
