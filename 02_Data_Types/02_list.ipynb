{
 "cells": [
  {
   "cell_type": "markdown",
   "id": "b1e0ce25-98b3-4b47-af1e-6ded82de6412",
   "metadata": {},
   "source": [
    "## LIST(ARRAY) IN PYTHON"
   ]
  },
  {
   "cell_type": "code",
   "execution_count": 69,
   "id": "0c0ede51-3ff5-489f-93a3-2be2e0150545",
   "metadata": {},
   "outputs": [],
   "source": [
    "tea_varities = [\"Black\", \"Green\", \"Oolong\", \"White\"]"
   ]
  },
  {
   "cell_type": "code",
   "execution_count": 71,
   "id": "858906b6-6637-45f0-9cef-558bee081646",
   "metadata": {},
   "outputs": [
    {
     "name": "stdout",
     "output_type": "stream",
     "text": [
      "['Black', 'Green', 'Oolong', 'White']\n"
     ]
    }
   ],
   "source": [
    "print(tea_varities)"
   ]
  },
  {
   "cell_type": "code",
   "execution_count": 73,
   "id": "70efb34b-a1eb-4c8b-8845-bff0396348dc",
   "metadata": {},
   "outputs": [
    {
     "name": "stdout",
     "output_type": "stream",
     "text": [
      "Black\n"
     ]
    }
   ],
   "source": [
    "print(tea_varities[0])"
   ]
  },
  {
   "cell_type": "code",
   "execution_count": 75,
   "id": "98c0c5a0-2533-402a-9341-543a55b3f864",
   "metadata": {},
   "outputs": [
    {
     "name": "stdout",
     "output_type": "stream",
     "text": [
      "['Black', 'Green', 'Oolong', 'White']\n"
     ]
    }
   ],
   "source": [
    "print(tea_varities[0:4])"
   ]
  },
  {
   "cell_type": "code",
   "execution_count": 77,
   "id": "2201a8d6-b7d3-4408-a3d3-f8a5b8cc91c1",
   "metadata": {},
   "outputs": [
    {
     "name": "stdout",
     "output_type": "stream",
     "text": [
      "['Black', 'Green']\n"
     ]
    }
   ],
   "source": [
    "print(tea_varities[:2])"
   ]
  },
  {
   "cell_type": "code",
   "execution_count": 79,
   "id": "8ced4a1c-31d5-4b4e-a1b0-a9e2ed0bca48",
   "metadata": {},
   "outputs": [
    {
     "name": "stdout",
     "output_type": "stream",
     "text": [
      "['Black', 'Oolong']\n"
     ]
    }
   ],
   "source": [
    "print(tea_varities[0:4:2])"
   ]
  },
  {
   "cell_type": "code",
   "execution_count": 81,
   "id": "a8effde6-3daa-4cfe-971d-86e4d1ff23ff",
   "metadata": {},
   "outputs": [
    {
     "name": "stdout",
     "output_type": "stream",
     "text": [
      "White\n"
     ]
    }
   ],
   "source": [
    "print(tea_varities[-1])"
   ]
  },
  {
   "cell_type": "code",
   "execution_count": 83,
   "id": "b997dc55-5fda-4771-ab0e-f7481c7e01fb",
   "metadata": {},
   "outputs": [
    {
     "name": "stdout",
     "output_type": "stream",
     "text": [
      "['Black', 'Green', 'Herbal', 'White']\n"
     ]
    }
   ],
   "source": [
    "tea_varities[2] = \"Herbal\"\n",
    "print(tea_varities)"
   ]
  },
  {
   "cell_type": "code",
   "execution_count": 85,
   "id": "bd59be2f-ec9b-4896-9837-65815acbdc7d",
   "metadata": {},
   "outputs": [
    {
     "name": "stdout",
     "output_type": "stream",
     "text": [
      "['Black', 'Green', 'Herbal', 'L', 'e', 'm', 'o', 'n']\n"
     ]
    }
   ],
   "source": [
    "tea_varities[3:4] = \"Lemon\"\n",
    "print(tea_varities)"
   ]
  },
  {
   "cell_type": "code",
   "execution_count": 87,
   "id": "6365f6b1-6cc9-47b1-84ff-b9cd533abb7d",
   "metadata": {},
   "outputs": [
    {
     "data": {
      "text/plain": [
       "['Black', 'Green', 'Herbal', 'Lemon']"
      ]
     },
     "execution_count": 87,
     "metadata": {},
     "output_type": "execute_result"
    }
   ],
   "source": [
    "tea_varities = [\"Black\", \"Green\", \"Herbal\", \"Lemon\"]\n",
    "tea_varities"
   ]
  },
  {
   "cell_type": "code",
   "execution_count": 89,
   "id": "b3ccdb4c-94bc-4d33-81f5-f3fb8efdd13b",
   "metadata": {},
   "outputs": [
    {
     "data": {
      "text/plain": [
       "['Green']"
      ]
     },
     "execution_count": 89,
     "metadata": {},
     "output_type": "execute_result"
    }
   ],
   "source": [
    "tea_varities[1:2]"
   ]
  },
  {
   "cell_type": "code",
   "execution_count": 91,
   "id": "ac7826d1-cc7c-457a-b4dd-597ca658009f",
   "metadata": {},
   "outputs": [
    {
     "name": "stdout",
     "output_type": "stream",
     "text": [
      "['Black', 'Lemon', 'Herbal', 'Lemon']\n"
     ]
    }
   ],
   "source": [
    "tea_varities[1:2] = [\"Lemon\"]\n",
    "print(tea_varities)"
   ]
  },
  {
   "cell_type": "code",
   "execution_count": 93,
   "id": "b3640c06-cd92-44d8-96d9-dd9eabf79f42",
   "metadata": {},
   "outputs": [
    {
     "data": {
      "text/plain": [
       "['Lemon', 'Herbal']"
      ]
     },
     "execution_count": 93,
     "metadata": {},
     "output_type": "execute_result"
    }
   ],
   "source": [
    "tea_varities[1:3]"
   ]
  },
  {
   "cell_type": "code",
   "execution_count": 95,
   "id": "aa973290-d509-42b5-8612-20536d0686fe",
   "metadata": {},
   "outputs": [
    {
     "name": "stdout",
     "output_type": "stream",
     "text": [
      "['Black', 'Milk', 'Masala', 'Lemon']\n"
     ]
    }
   ],
   "source": [
    "tea_varities[1:3] = [\"Milk\", \"Masala\"]\n",
    "print(tea_varities)"
   ]
  },
  {
   "cell_type": "code",
   "execution_count": 97,
   "id": "8784ca63-8b28-4cf5-91af-faad8937c5f0",
   "metadata": {},
   "outputs": [
    {
     "data": {
      "text/plain": [
       "[]"
      ]
     },
     "execution_count": 97,
     "metadata": {},
     "output_type": "execute_result"
    }
   ],
   "source": [
    "tea_varities[1:1]"
   ]
  },
  {
   "cell_type": "code",
   "execution_count": 99,
   "id": "ad7c6882-38fe-4067-8389-4a27b1d25534",
   "metadata": {},
   "outputs": [
    {
     "name": "stdout",
     "output_type": "stream",
     "text": [
      "['Black', 'Sougata', 'Vikram', 'Milk', 'Masala', 'Lemon']\n"
     ]
    }
   ],
   "source": [
    "tea_varities[1:1] = [\"Sougata\", \"Vikram\"]\n",
    "print(tea_varities)"
   ]
  },
  {
   "cell_type": "code",
   "execution_count": 101,
   "id": "75a7ae6a-fefb-49a1-8ca0-7d36c1073329",
   "metadata": {},
   "outputs": [
    {
     "data": {
      "text/plain": [
       "['Sougata', 'Vikram']"
      ]
     },
     "execution_count": 101,
     "metadata": {},
     "output_type": "execute_result"
    }
   ],
   "source": [
    "# concept of insert nothing this means deleting \n",
    "tea_varities[1:3] "
   ]
  },
  {
   "cell_type": "code",
   "execution_count": 103,
   "id": "df09af79-a594-4c77-801b-0bad86e4918f",
   "metadata": {},
   "outputs": [
    {
     "name": "stdout",
     "output_type": "stream",
     "text": [
      "['Black', 'Milk', 'Masala', 'Lemon']\n"
     ]
    }
   ],
   "source": [
    "tea_varities[1:3] = []\n",
    "print(tea_varities)"
   ]
  },
  {
   "cell_type": "code",
   "execution_count": 105,
   "id": "33638b50-e4a6-4e29-90d4-f7d573e82f09",
   "metadata": {},
   "outputs": [
    {
     "name": "stdout",
     "output_type": "stream",
     "text": [
      "Black\n",
      "Milk\n",
      "Masala\n",
      "Lemon\n"
     ]
    }
   ],
   "source": [
    "for tea in tea_varities:\n",
    "    print(tea)"
   ]
  },
  {
   "cell_type": "code",
   "execution_count": 107,
   "id": "733392d2-2a7f-4f8c-8792-70ba7e80f74a",
   "metadata": {},
   "outputs": [
    {
     "name": "stdout",
     "output_type": "stream",
     "text": [
      "Black-Milk-Masala-Lemon-"
     ]
    }
   ],
   "source": [
    "for tea in tea_varities:\n",
    "    print(tea,end =\"-\")"
   ]
  },
  {
   "cell_type": "code",
   "execution_count": 109,
   "id": "528bcfa1-a84b-4084-8274-61a32ca10d27",
   "metadata": {},
   "outputs": [
    {
     "name": "stdout",
     "output_type": "stream",
     "text": [
      "S o u g a t a   P a r i a "
     ]
    }
   ],
   "source": [
    "name = \"Sougata Paria\"\n",
    "for char in name:\n",
    "    print(char,end = \" \")"
   ]
  },
  {
   "cell_type": "code",
   "execution_count": 111,
   "id": "5055f8e5-523d-4720-86d5-785cd65b7e48",
   "metadata": {},
   "outputs": [],
   "source": [
    "# You can ask conditional question in for loop also\n",
    "if \"Oolong\" in tea_varities:\n",
    "    print(\"I have Olong tea\")"
   ]
  },
  {
   "cell_type": "code",
   "execution_count": 113,
   "id": "38ad0214-117d-4750-8d65-8db65204954e",
   "metadata": {},
   "outputs": [],
   "source": [
    "tea_varities.append(\"Oolong\")"
   ]
  },
  {
   "cell_type": "code",
   "execution_count": 115,
   "id": "2ef7918b-3fa9-469d-9dd1-205fad13a6cf",
   "metadata": {},
   "outputs": [
    {
     "data": {
      "text/plain": [
       "['Black', 'Milk', 'Masala', 'Lemon', 'Oolong']"
      ]
     },
     "execution_count": 115,
     "metadata": {},
     "output_type": "execute_result"
    }
   ],
   "source": [
    "tea_varities"
   ]
  },
  {
   "cell_type": "code",
   "execution_count": 117,
   "id": "c4147d86-ef63-48bc-a509-dcbacd4c3137",
   "metadata": {},
   "outputs": [
    {
     "name": "stdout",
     "output_type": "stream",
     "text": [
      "I have Oolong tea\n"
     ]
    }
   ],
   "source": [
    "if \"Oolong\" in tea_varities:\n",
    "    print(\"I have Oolong tea\")"
   ]
  },
  {
   "cell_type": "code",
   "execution_count": 119,
   "id": "475c6434-f5e1-4a2a-b2f2-6c794b4f0a2b",
   "metadata": {},
   "outputs": [
    {
     "name": "stdout",
     "output_type": "stream",
     "text": [
      "['Black', 'Milk', 'Masala', 'Lemon', 'Oolong']\n"
     ]
    }
   ],
   "source": [
    "print(tea_varities)"
   ]
  },
  {
   "cell_type": "code",
   "execution_count": 121,
   "id": "5888bc0c-d215-48b4-af27-96c2fe97ba77",
   "metadata": {},
   "outputs": [
    {
     "data": {
      "text/plain": [
       "'Oolong'"
      ]
     },
     "execution_count": 121,
     "metadata": {},
     "output_type": "execute_result"
    }
   ],
   "source": [
    "tea_varities.pop()\n",
    "# if you want to just simply remove the last element of the array and get to know that element then use  pop() method\n",
    "# no need to know the length of the array, just use pop comment and remove the last element of the array"
   ]
  },
  {
   "cell_type": "code",
   "execution_count": 123,
   "id": "5f8edcc7-1a5d-418e-b3fd-16d96bb77ef9",
   "metadata": {},
   "outputs": [
    {
     "data": {
      "text/plain": [
       "['Black', 'Milk', 'Masala', 'Lemon']"
      ]
     },
     "execution_count": 123,
     "metadata": {},
     "output_type": "execute_result"
    }
   ],
   "source": [
    "tea_varities"
   ]
  },
  {
   "cell_type": "code",
   "execution_count": 125,
   "id": "3f5fa286-a75e-40cd-8b44-371bcbe731e8",
   "metadata": {},
   "outputs": [],
   "source": [
    "# But if you want to remove the specific element of the array then we have remove() method\n",
    "tea_varities.remove(\"Milk\")"
   ]
  },
  {
   "cell_type": "code",
   "execution_count": 127,
   "id": "c236d692-c933-4ee5-97d1-e8053ddb5ad0",
   "metadata": {},
   "outputs": [
    {
     "name": "stdout",
     "output_type": "stream",
     "text": [
      "['Black', 'Masala', 'Lemon']\n"
     ]
    }
   ],
   "source": [
    "print(tea_varities)"
   ]
  },
  {
   "cell_type": "code",
   "execution_count": 129,
   "id": "0e0c3adb-0c28-4a18-b0ad-3e38996efa5d",
   "metadata": {},
   "outputs": [
    {
     "ename": "TypeError",
     "evalue": "insert expected 2 arguments, got 4",
     "output_type": "error",
     "traceback": [
      "\u001b[1;31m---------------------------------------------------------------------------\u001b[0m",
      "\u001b[1;31mTypeError\u001b[0m                                 Traceback (most recent call last)",
      "Cell \u001b[1;32mIn[129], line 2\u001b[0m\n\u001b[0;32m      1\u001b[0m \u001b[38;5;66;03m# If you want to insert one or more than one element inside the List of python you can use insert() method\u001b[39;00m\n\u001b[1;32m----> 2\u001b[0m tea_varities\u001b[38;5;241m.\u001b[39minsert(\u001b[38;5;241m1\u001b[39m,\u001b[38;5;124m\"\u001b[39m\u001b[38;5;124mGreen\u001b[39m\u001b[38;5;124m\"\u001b[39m, \u001b[38;5;124m\"\u001b[39m\u001b[38;5;124mOolong\u001b[39m\u001b[38;5;124m\"\u001b[39m, \u001b[38;5;124m\"\u001b[39m\u001b[38;5;124mWhite\u001b[39m\u001b[38;5;124m\"\u001b[39m)\n\u001b[0;32m      3\u001b[0m \u001b[38;5;28mprint\u001b[39m(tea_varities)\n",
      "\u001b[1;31mTypeError\u001b[0m: insert expected 2 arguments, got 4"
     ]
    }
   ],
   "source": [
    "# If you want to insert one element inside the List of python you can use insert() method because insert method uses takes only two user input\n",
    "tea_varities.insert(1,\"Green\", \"Oolong\", \"White\")\n",
    "print(tea_varities)"
   ]
  },
  {
   "cell_type": "code",
   "execution_count": 133,
   "id": "c54762a8-d0bc-4570-bbbd-49e75ae12920",
   "metadata": {},
   "outputs": [
    {
     "name": "stdout",
     "output_type": "stream",
     "text": [
      "['Black', 'Green', 'Masala', 'Lemon']\n"
     ]
    }
   ],
   "source": [
    "tea_varities.insert(1,\"Green\")\n",
    "print(tea_varities)"
   ]
  },
  {
   "cell_type": "code",
   "execution_count": 147,
   "id": "417f89d2-970f-4d86-8bae-e63244c1cca7",
   "metadata": {},
   "outputs": [
    {
     "name": "stdout",
     "output_type": "stream",
     "text": [
      "4294967295\n",
      "4294967295\n",
      "4294967295\n",
      "Same memory reference\n"
     ]
    }
   ],
   "source": [
    "x = 5\n",
    "y = x\n",
    "z = 10\n",
    "import sys\n",
    "print(sys.getrefcount(x))\n",
    "print(sys.getrefcount(y))\n",
    "print(sys.getrefcount(z))\n",
    "\n",
    "if sys.getrefcount(x) == sys.getrefcount(z):\n",
    "    print(\"Same memory reference\")"
   ]
  },
  {
   "cell_type": "code",
   "execution_count": 149,
   "id": "ac93b28a-224e-45c3-9129-ab0280e8e9e5",
   "metadata": {},
   "outputs": [],
   "source": [
    "# To get a copy of any object in python with distinct memory reference we use copy() method\n",
    "tea_varities_copy = tea_varities.copy()"
   ]
  },
  {
   "cell_type": "code",
   "execution_count": 151,
   "id": "5304601f-825c-4be6-9015-f3ca9e1bb63e",
   "metadata": {},
   "outputs": [
    {
     "data": {
      "text/plain": [
       "['Black', 'Green', 'Masala', 'Lemon']"
      ]
     },
     "execution_count": 151,
     "metadata": {},
     "output_type": "execute_result"
    }
   ],
   "source": [
    "tea_varities_copy"
   ]
  },
  {
   "cell_type": "markdown",
   "id": "6b6aba8f-db1e-4bd1-bea8-7463fe5b56e9",
   "metadata": {},
   "source": [
    "concept of list comprehension"
   ]
  },
  {
   "cell_type": "code",
   "execution_count": 154,
   "id": "d17acb95-d5da-4b4d-bc26-be6d3cbda49e",
   "metadata": {},
   "outputs": [
    {
     "name": "stdout",
     "output_type": "stream",
     "text": [
      "[0, 1, 4, 9, 16, 25, 36, 49, 64, 81]\n"
     ]
    }
   ],
   "source": [
    "squared_nums = [x ** 2 for x in range(10)]\n",
    "print(squared_nums)"
   ]
  },
  {
   "cell_type": "code",
   "execution_count": 162,
   "id": "9fc3826e-dfc5-4642-a335-92293def6818",
   "metadata": {},
   "outputs": [
    {
     "name": "stdout",
     "output_type": "stream",
     "text": [
      "[8, 27, 64]\n"
     ]
    }
   ],
   "source": [
    "cubed_nums = [y ** 3 for y in range(2,5)]\n",
    "print(cubed_nums)"
   ]
  },
  {
   "cell_type": "code",
   "execution_count": null,
   "id": "ae7bbd4c-fd79-4cd9-830a-e4f74e3d86e3",
   "metadata": {},
   "outputs": [],
   "source": []
  }
 ],
 "metadata": {
  "kernelspec": {
   "display_name": "Python 3 (ipykernel)",
   "language": "python",
   "name": "python3"
  },
  "language_info": {
   "codemirror_mode": {
    "name": "ipython",
    "version": 3
   },
   "file_extension": ".py",
   "mimetype": "text/x-python",
   "name": "python",
   "nbconvert_exporter": "python",
   "pygments_lexer": "ipython3",
   "version": "3.12.4"
  }
 },
 "nbformat": 4,
 "nbformat_minor": 5
}
