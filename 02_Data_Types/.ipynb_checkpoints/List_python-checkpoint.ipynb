{
 "cells": [
  {
   "cell_type": "code",
   "execution_count": null,
   "id": "0cbaa4fb-172c-4c80-bec5-f4cb9ecd43f6",
   "metadata": {},
   "outputs": [],
   "source": []
  },
  {
   "cell_type": "markdown",
   "id": "b1e0ce25-98b3-4b47-af1e-6ded82de6412",
   "metadata": {},
   "source": [
    "## LIST(ARRAY) IN PYTHON"
   ]
  },
  {
   "cell_type": "code",
   "execution_count": 74,
   "id": "0c0ede51-3ff5-489f-93a3-2be2e0150545",
   "metadata": {},
   "outputs": [],
   "source": [
    "tea_varities = [\"Black\", \"Green\", \"Oolong\", \"White\"]"
   ]
  },
  {
   "cell_type": "code",
   "execution_count": 76,
   "id": "858906b6-6637-45f0-9cef-558bee081646",
   "metadata": {},
   "outputs": [
    {
     "name": "stdout",
     "output_type": "stream",
     "text": [
      "['Black', 'Green', 'Oolong', 'White']\n"
     ]
    }
   ],
   "source": [
    "print(tea_varities)"
   ]
  },
  {
   "cell_type": "code",
   "execution_count": 78,
   "id": "70efb34b-a1eb-4c8b-8845-bff0396348dc",
   "metadata": {},
   "outputs": [
    {
     "name": "stdout",
     "output_type": "stream",
     "text": [
      "Black\n"
     ]
    }
   ],
   "source": [
    "print(tea_varities[0])"
   ]
  },
  {
   "cell_type": "code",
   "execution_count": 80,
   "id": "98c0c5a0-2533-402a-9341-543a55b3f864",
   "metadata": {},
   "outputs": [
    {
     "name": "stdout",
     "output_type": "stream",
     "text": [
      "['Black', 'Green', 'Oolong', 'White']\n"
     ]
    }
   ],
   "source": [
    "print(tea_varities[0:4])"
   ]
  },
  {
   "cell_type": "code",
   "execution_count": 82,
   "id": "2201a8d6-b7d3-4408-a3d3-f8a5b8cc91c1",
   "metadata": {},
   "outputs": [
    {
     "name": "stdout",
     "output_type": "stream",
     "text": [
      "['Black', 'Green']\n"
     ]
    }
   ],
   "source": [
    "print(tea_varities[:2])"
   ]
  },
  {
   "cell_type": "code",
   "execution_count": 84,
   "id": "8ced4a1c-31d5-4b4e-a1b0-a9e2ed0bca48",
   "metadata": {},
   "outputs": [
    {
     "name": "stdout",
     "output_type": "stream",
     "text": [
      "['Black', 'Oolong']\n"
     ]
    }
   ],
   "source": [
    "print(tea_varities[0:4:2])"
   ]
  },
  {
   "cell_type": "code",
   "execution_count": 86,
   "id": "a8effde6-3daa-4cfe-971d-86e4d1ff23ff",
   "metadata": {},
   "outputs": [
    {
     "name": "stdout",
     "output_type": "stream",
     "text": [
      "White\n"
     ]
    }
   ],
   "source": [
    "print(tea_varities[-1])"
   ]
  },
  {
   "cell_type": "code",
   "execution_count": 88,
   "id": "b997dc55-5fda-4771-ab0e-f7481c7e01fb",
   "metadata": {},
   "outputs": [
    {
     "name": "stdout",
     "output_type": "stream",
     "text": [
      "['Black', 'Green', 'Herbal', 'White']\n"
     ]
    }
   ],
   "source": [
    "tea_varities[2] = \"Herbal\"\n",
    "print(tea_varities)"
   ]
  },
  {
   "cell_type": "code",
   "execution_count": 90,
   "id": "bd59be2f-ec9b-4896-9837-65815acbdc7d",
   "metadata": {},
   "outputs": [
    {
     "name": "stdout",
     "output_type": "stream",
     "text": [
      "['Black', 'Green', 'Herbal', 'L', 'e', 'm', 'o', 'n']\n"
     ]
    }
   ],
   "source": [
    "tea_varities[3:4] = \"Lemon\"\n",
    "print(tea_varities)"
   ]
  },
  {
   "cell_type": "code",
   "execution_count": 92,
   "id": "6365f6b1-6cc9-47b1-84ff-b9cd533abb7d",
   "metadata": {},
   "outputs": [
    {
     "data": {
      "text/plain": [
       "['Black', 'Green', 'Herbal', 'Lemon']"
      ]
     },
     "execution_count": 92,
     "metadata": {},
     "output_type": "execute_result"
    }
   ],
   "source": [
    "tea_varities = [\"Black\", \"Green\", \"Herbal\", \"Lemon\"]\n",
    "tea_varities"
   ]
  },
  {
   "cell_type": "code",
   "execution_count": 94,
   "id": "b3ccdb4c-94bc-4d33-81f5-f3fb8efdd13b",
   "metadata": {},
   "outputs": [
    {
     "data": {
      "text/plain": [
       "['Green']"
      ]
     },
     "execution_count": 94,
     "metadata": {},
     "output_type": "execute_result"
    }
   ],
   "source": [
    "tea_varities[1:2]"
   ]
  },
  {
   "cell_type": "code",
   "execution_count": 96,
   "id": "ac7826d1-cc7c-457a-b4dd-597ca658009f",
   "metadata": {},
   "outputs": [
    {
     "name": "stdout",
     "output_type": "stream",
     "text": [
      "['Black', 'Lemon', 'Herbal', 'Lemon']\n"
     ]
    }
   ],
   "source": [
    "tea_varities[1:2] = [\"Lemon\"]\n",
    "print(tea_varities)"
   ]
  },
  {
   "cell_type": "code",
   "execution_count": 98,
   "id": "b3640c06-cd92-44d8-96d9-dd9eabf79f42",
   "metadata": {},
   "outputs": [
    {
     "data": {
      "text/plain": [
       "['Lemon', 'Herbal']"
      ]
     },
     "execution_count": 98,
     "metadata": {},
     "output_type": "execute_result"
    }
   ],
   "source": [
    "tea_varities[1:3]"
   ]
  },
  {
   "cell_type": "code",
   "execution_count": 100,
   "id": "aa973290-d509-42b5-8612-20536d0686fe",
   "metadata": {},
   "outputs": [
    {
     "name": "stdout",
     "output_type": "stream",
     "text": [
      "['Black', 'Milk', 'Masala', 'Lemon']\n"
     ]
    }
   ],
   "source": [
    "tea_varities[1:3] = [\"Milk\", \"Masala\"]\n",
    "print(tea_varities)"
   ]
  },
  {
   "cell_type": "code",
   "execution_count": 102,
   "id": "8784ca63-8b28-4cf5-91af-faad8937c5f0",
   "metadata": {},
   "outputs": [
    {
     "data": {
      "text/plain": [
       "[]"
      ]
     },
     "execution_count": 102,
     "metadata": {},
     "output_type": "execute_result"
    }
   ],
   "source": [
    "tea_varities[1:1]"
   ]
  },
  {
   "cell_type": "code",
   "execution_count": 104,
   "id": "ad7c6882-38fe-4067-8389-4a27b1d25534",
   "metadata": {},
   "outputs": [
    {
     "name": "stdout",
     "output_type": "stream",
     "text": [
      "['Black', 'Sougata', 'Vikram', 'Milk', 'Masala', 'Lemon']\n"
     ]
    }
   ],
   "source": [
    "tea_varities[1:1] = [\"Sougata\", \"Vikram\"]\n",
    "print(tea_varities)"
   ]
  },
  {
   "cell_type": "code",
   "execution_count": 106,
   "id": "75a7ae6a-fefb-49a1-8ca0-7d36c1073329",
   "metadata": {},
   "outputs": [
    {
     "data": {
      "text/plain": [
       "['Sougata', 'Vikram']"
      ]
     },
     "execution_count": 106,
     "metadata": {},
     "output_type": "execute_result"
    }
   ],
   "source": [
    "# concept of insert nothing this means deleting \n",
    "tea_varities[1:3] "
   ]
  },
  {
   "cell_type": "code",
   "execution_count": 108,
   "id": "df09af79-a594-4c77-801b-0bad86e4918f",
   "metadata": {},
   "outputs": [
    {
     "name": "stdout",
     "output_type": "stream",
     "text": [
      "['Black', 'Milk', 'Masala', 'Lemon']\n"
     ]
    }
   ],
   "source": [
    "tea_varities[1:3] = []\n",
    "print(tea_varities)"
   ]
  },
  {
   "cell_type": "code",
   "execution_count": 110,
   "id": "33638b50-e4a6-4e29-90d4-f7d573e82f09",
   "metadata": {},
   "outputs": [
    {
     "name": "stdout",
     "output_type": "stream",
     "text": [
      "Black\n",
      "Milk\n",
      "Masala\n",
      "Lemon\n"
     ]
    }
   ],
   "source": [
    "for tea in tea_varities:\n",
    "    print(tea)"
   ]
  },
  {
   "cell_type": "code",
   "execution_count": 112,
   "id": "733392d2-2a7f-4f8c-8792-70ba7e80f74a",
   "metadata": {},
   "outputs": [
    {
     "name": "stdout",
     "output_type": "stream",
     "text": [
      "Black-Milk-Masala-Lemon-"
     ]
    }
   ],
   "source": [
    "for tea in tea_varities:\n",
    "    print(tea,end =\"-\")"
   ]
  },
  {
   "cell_type": "code",
   "execution_count": 114,
   "id": "528bcfa1-a84b-4084-8274-61a32ca10d27",
   "metadata": {},
   "outputs": [
    {
     "name": "stdout",
     "output_type": "stream",
     "text": [
      "S o u g a t a   P a r i a "
     ]
    }
   ],
   "source": [
    "name = \"Sougata Paria\"\n",
    "for char in name:\n",
    "    print(char,end = \" \")"
   ]
  },
  {
   "cell_type": "code",
   "execution_count": 116,
   "id": "5055f8e5-523d-4720-86d5-785cd65b7e48",
   "metadata": {},
   "outputs": [],
   "source": [
    "# You can ask conditional question in for loop also\n",
    "if \"Oolong\" in tea_varities:\n",
    "    print(\"I have Olong tea\")"
   ]
  },
  {
   "cell_type": "code",
   "execution_count": 118,
   "id": "38ad0214-117d-4750-8d65-8db65204954e",
   "metadata": {},
   "outputs": [],
   "source": [
    "tea_varities.append(\"Oolong\")"
   ]
  },
  {
   "cell_type": "code",
   "execution_count": 120,
   "id": "2ef7918b-3fa9-469d-9dd1-205fad13a6cf",
   "metadata": {},
   "outputs": [
    {
     "data": {
      "text/plain": [
       "['Black', 'Milk', 'Masala', 'Lemon', 'Oolong']"
      ]
     },
     "execution_count": 120,
     "metadata": {},
     "output_type": "execute_result"
    }
   ],
   "source": [
    "tea_varities"
   ]
  },
  {
   "cell_type": "code",
   "execution_count": 122,
   "id": "c4147d86-ef63-48bc-a509-dcbacd4c3137",
   "metadata": {},
   "outputs": [
    {
     "name": "stdout",
     "output_type": "stream",
     "text": [
      "I have Oolong tea\n"
     ]
    }
   ],
   "source": [
    "if \"Oolong\" in tea_varities:\n",
    "    print(\"I have Oolong tea\")"
   ]
  },
  {
   "cell_type": "code",
   "execution_count": 124,
   "id": "475c6434-f5e1-4a2a-b2f2-6c794b4f0a2b",
   "metadata": {},
   "outputs": [
    {
     "name": "stdout",
     "output_type": "stream",
     "text": [
      "['Black', 'Milk', 'Masala', 'Lemon', 'Oolong']\n"
     ]
    }
   ],
   "source": [
    "print(tea_varities)"
   ]
  },
  {
   "cell_type": "code",
   "execution_count": 126,
   "id": "5888bc0c-d215-48b4-af27-96c2fe97ba77",
   "metadata": {},
   "outputs": [
    {
     "data": {
      "text/plain": [
       "'Oolong'"
      ]
     },
     "execution_count": 126,
     "metadata": {},
     "output_type": "execute_result"
    }
   ],
   "source": [
    "tea_varities.pop()"
   ]
  },
  {
   "cell_type": "code",
   "execution_count": 128,
   "id": "5f8edcc7-1a5d-418e-b3fd-16d96bb77ef9",
   "metadata": {},
   "outputs": [
    {
     "data": {
      "text/plain": [
       "['Black', 'Milk', 'Masala', 'Lemon']"
      ]
     },
     "execution_count": 128,
     "metadata": {},
     "output_type": "execute_result"
    }
   ],
   "source": [
    "tea_varities"
   ]
  },
  {
   "cell_type": "code",
   "execution_count": null,
   "id": "3f5fa286-a75e-40cd-8b44-371bcbe731e8",
   "metadata": {},
   "outputs": [],
   "source": []
  }
 ],
 "metadata": {
  "kernelspec": {
   "display_name": "Python 3 (ipykernel)",
   "language": "python",
   "name": "python3"
  },
  "language_info": {
   "codemirror_mode": {
    "name": "ipython",
    "version": 3
   },
   "file_extension": ".py",
   "mimetype": "text/x-python",
   "name": "python",
   "nbconvert_exporter": "python",
   "pygments_lexer": "ipython3",
   "version": "3.12.4"
  }
 },
 "nbformat": 4,
 "nbformat_minor": 5
}
