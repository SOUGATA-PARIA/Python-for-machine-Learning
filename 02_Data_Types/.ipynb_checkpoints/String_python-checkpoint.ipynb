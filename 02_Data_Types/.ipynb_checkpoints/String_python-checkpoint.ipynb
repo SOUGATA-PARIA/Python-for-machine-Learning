{
 "cells": [
  {
   "cell_type": "markdown",
   "id": "0ed1e54f-8ffd-42ec-beb6-691c34edc9ad",
   "metadata": {},
   "source": [
    "# STRING IN PYTHON"
   ]
  },
  {
   "cell_type": "code",
   "execution_count": 36,
   "id": "c7cd2ed3-cf46-46be-9787-3f1744978e9b",
   "metadata": {},
   "outputs": [],
   "source": [
    "chai = \"Lemon Chai\""
   ]
  },
  {
   "cell_type": "code",
   "execution_count": 38,
   "id": "c6c0e03a-a379-4e78-a0ca-969db810ad94",
   "metadata": {},
   "outputs": [
    {
     "data": {
      "text/plain": [
       "'Lemon Chai'"
      ]
     },
     "execution_count": 38,
     "metadata": {},
     "output_type": "execute_result"
    }
   ],
   "source": [
    "chai"
   ]
  },
  {
   "cell_type": "code",
   "execution_count": 40,
   "id": "c4dc1137-6a4b-4f3a-825f-ba9b3b7c9741",
   "metadata": {},
   "outputs": [
    {
     "name": "stdout",
     "output_type": "stream",
     "text": [
      "Lemon Chai\n"
     ]
    }
   ],
   "source": [
    "print(chai)"
   ]
  },
  {
   "cell_type": "code",
   "execution_count": 42,
   "id": "9d0a70a5-a9a6-4dbd-b033-16b660733b5d",
   "metadata": {},
   "outputs": [
    {
     "name": "stdout",
     "output_type": "stream",
     "text": [
      "L\n"
     ]
    }
   ],
   "source": [
    "first_character = chai[0]\n",
    "print(first_character)"
   ]
  },
  {
   "cell_type": "code",
   "execution_count": 48,
   "id": "6ac03a77-7653-4e51-bba6-8c1aeb975dd5",
   "metadata": {},
   "outputs": [
    {
     "name": "stdout",
     "output_type": "stream",
     "text": [
      "Lemon\n"
     ]
    }
   ],
   "source": [
    "slice_chai = chai[0:5]\n",
    "print(slice_chai)"
   ]
  },
  {
   "cell_type": "code",
   "execution_count": 50,
   "id": "5e0a7575-5586-484f-9264-5a5eb592f02e",
   "metadata": {},
   "outputs": [
    {
     "data": {
      "text/plain": [
       "'Lemon '"
      ]
     },
     "execution_count": 50,
     "metadata": {},
     "output_type": "execute_result"
    }
   ],
   "source": [
    "chai[0:6]"
   ]
  },
  {
   "cell_type": "code",
   "execution_count": 52,
   "id": "2ce9c0a8-2fdd-4081-b3a8-9a0088956599",
   "metadata": {},
   "outputs": [],
   "source": [
    "num_list = \"0123456789\""
   ]
  },
  {
   "cell_type": "code",
   "execution_count": 54,
   "id": "eb6e50db-afd0-4e5d-95cd-c48005ccb5ca",
   "metadata": {},
   "outputs": [
    {
     "data": {
      "text/plain": [
       "'0123456789'"
      ]
     },
     "execution_count": 54,
     "metadata": {},
     "output_type": "execute_result"
    }
   ],
   "source": [
    "num_list[:]"
   ]
  },
  {
   "cell_type": "code",
   "execution_count": 56,
   "id": "4eb57297-015b-4299-8bde-5f82910960a3",
   "metadata": {},
   "outputs": [
    {
     "data": {
      "text/plain": [
       "'3456789'"
      ]
     },
     "execution_count": 56,
     "metadata": {},
     "output_type": "execute_result"
    }
   ],
   "source": [
    "num_list[3:]"
   ]
  },
  {
   "cell_type": "code",
   "execution_count": 62,
   "id": "f2df86f6-3e5b-40d1-83a4-982ac9a4bef6",
   "metadata": {},
   "outputs": [
    {
     "data": {
      "text/plain": [
       "'0246'"
      ]
     },
     "execution_count": 62,
     "metadata": {},
     "output_type": "execute_result"
    }
   ],
   "source": [
    "num_list[0:7:2]\n",
    "# hopping parameter is provided here at the end"
   ]
  },
  {
   "cell_type": "code",
   "execution_count": 66,
   "id": "b5f839ea-c496-4f57-aef0-95493f865d44",
   "metadata": {},
   "outputs": [
    {
     "data": {
      "text/plain": [
       "'036'"
      ]
     },
     "execution_count": 66,
     "metadata": {},
     "output_type": "execute_result"
    }
   ],
   "source": [
    "num_list[0:7:3]"
   ]
  },
  {
   "cell_type": "code",
   "execution_count": 68,
   "id": "1992e107-0373-4fb6-935b-c1b23866673f",
   "metadata": {},
   "outputs": [
    {
     "data": {
      "text/plain": [
       "'Lemon Chai'"
      ]
     },
     "execution_count": 68,
     "metadata": {},
     "output_type": "execute_result"
    }
   ],
   "source": [
    "chai"
   ]
  },
  {
   "cell_type": "code",
   "execution_count": 70,
   "id": "a7635eeb-aefd-4cae-a047-94f2e4635d01",
   "metadata": {},
   "outputs": [
    {
     "name": "stdout",
     "output_type": "stream",
     "text": [
      "lemon chai\n"
     ]
    }
   ],
   "source": [
    "print(chai.lower())"
   ]
  },
  {
   "cell_type": "code",
   "execution_count": 72,
   "id": "a7e99310-dcdd-494c-a472-6636a2b200d7",
   "metadata": {},
   "outputs": [
    {
     "name": "stdout",
     "output_type": "stream",
     "text": [
      "LEMON CHAI\n"
     ]
    }
   ],
   "source": [
    "print(chai.upper())"
   ]
  },
  {
   "cell_type": "code",
   "execution_count": 74,
   "id": "be81ae7c-1266-4f71-ba26-f69a997825ee",
   "metadata": {},
   "outputs": [
    {
     "data": {
      "text/plain": [
       "'Lemon Chai'"
      ]
     },
     "execution_count": 74,
     "metadata": {},
     "output_type": "execute_result"
    }
   ],
   "source": [
    "chai"
   ]
  },
  {
   "cell_type": "code",
   "execution_count": 76,
   "id": "62240903-7656-437d-9e38-5814e31d8513",
   "metadata": {},
   "outputs": [],
   "source": [
    "chai = \"    Masala Chai  \""
   ]
  },
  {
   "cell_type": "code",
   "execution_count": 78,
   "id": "f91efe44-9bf3-4dee-a8e3-80c57a276ff2",
   "metadata": {},
   "outputs": [
    {
     "data": {
      "text/plain": [
       "'    Masala Chai  '"
      ]
     },
     "execution_count": 78,
     "metadata": {},
     "output_type": "execute_result"
    }
   ],
   "source": [
    "chai"
   ]
  },
  {
   "cell_type": "code",
   "execution_count": 80,
   "id": "cfc965a5-bb9b-47f5-baaa-5573a7b1eeec",
   "metadata": {},
   "outputs": [
    {
     "name": "stdout",
     "output_type": "stream",
     "text": [
      "Masala Chai\n"
     ]
    }
   ],
   "source": [
    "print(chai.strip())"
   ]
  },
  {
   "cell_type": "code",
   "execution_count": 82,
   "id": "ac54ede7-e9f3-413d-ab56-5736a229b93b",
   "metadata": {},
   "outputs": [],
   "source": [
    "chai = \"Masala Chai\""
   ]
  },
  {
   "cell_type": "code",
   "execution_count": 84,
   "id": "ce7557d8-c84a-4a47-9326-24befac8d0fd",
   "metadata": {},
   "outputs": [
    {
     "name": "stdout",
     "output_type": "stream",
     "text": [
      "Ginger Chai\n"
     ]
    }
   ],
   "source": [
    "print(chai.replace(\"Masala\", \"Ginger\"))"
   ]
  },
  {
   "cell_type": "code",
   "execution_count": 86,
   "id": "166c742b-ee0a-427e-bcc0-b65d2bc8127e",
   "metadata": {},
   "outputs": [
    {
     "data": {
      "text/plain": [
       "'Masala Chai'"
      ]
     },
     "execution_count": 86,
     "metadata": {},
     "output_type": "execute_result"
    }
   ],
   "source": [
    "chai"
   ]
  },
  {
   "cell_type": "code",
   "execution_count": 88,
   "id": "4169e8d5-4157-4189-ab43-02ac9e51ea39",
   "metadata": {},
   "outputs": [],
   "source": [
    "chai = \"Lemon, Ginger, Masala, Mint\""
   ]
  },
  {
   "cell_type": "code",
   "execution_count": 94,
   "id": "90a6bc00-7fb7-47a6-a863-1b7efbada5cb",
   "metadata": {},
   "outputs": [
    {
     "name": "stdout",
     "output_type": "stream",
     "text": [
      "['Lemon,', 'Ginger,', 'Masala,', 'Mint']\n",
      "['Lemon', 'Ginger', 'Masala', 'Mint']\n"
     ]
    }
   ],
   "source": [
    "#convert this into the list\n",
    "print(chai.split())\n",
    "print(chai.split(\", \")) \n",
    "# After split method give the information on which basis we are going to split"
   ]
  },
  {
   "cell_type": "code",
   "execution_count": 136,
   "id": "81260050-e448-4d47-844b-4b362d26e7e0",
   "metadata": {},
   "outputs": [
    {
     "name": "stdout",
     "output_type": "stream",
     "text": [
      "7\n",
      "-1\n",
      "-1\n"
     ]
    }
   ],
   "source": [
    "chai = \"Masala Chai\"\n",
    "# Finding a specific term\n",
    "print(chai.find(\"Chai\"))\n",
    "print(chai.find(\"chai\"))\n",
    "print(chai.find(\"Lemon\"))\n",
    "# if it cannot find that character or keyword then it will return -1"
   ]
  },
  {
   "cell_type": "code",
   "execution_count": 102,
   "id": "817e08bf-ff2f-4ea9-9ce2-5884c3a2ce9f",
   "metadata": {},
   "outputs": [
    {
     "name": "stdout",
     "output_type": "stream",
     "text": [
      "3\n"
     ]
    }
   ],
   "source": [
    "chai = \"Masala Chai Chai Chai\"\n",
    "print(chai.count(\"Chai\"))"
   ]
  },
  {
   "cell_type": "markdown",
   "id": "281c7ad6-c696-4384-a414-e1c4554ebffc",
   "metadata": {},
   "source": [
    "# concept of place-holder"
   ]
  },
  {
   "cell_type": "code",
   "execution_count": 104,
   "id": "eb85dacc-4064-47f9-8eca-760b1cc59958",
   "metadata": {},
   "outputs": [
    {
     "data": {
      "text/plain": [
       "'I ordered {} cups of {} chai'"
      ]
     },
     "execution_count": 104,
     "metadata": {},
     "output_type": "execute_result"
    }
   ],
   "source": [
    "chai_type = \"Lemon\"\n",
    "quantity = 2\n",
    "order = \"I ordered {} cups of {} chai\"\n",
    "\n",
    "# {} are known as the [place holder] where you can add variables\n",
    "order\n"
   ]
  },
  {
   "cell_type": "code",
   "execution_count": 106,
   "id": "c4bb7025-99ef-4255-83ac-538155c261c2",
   "metadata": {},
   "outputs": [
    {
     "name": "stdout",
     "output_type": "stream",
     "text": [
      "I ordered 2 cups of Lemon chai\n"
     ]
    }
   ],
   "source": [
    "print(order.format(quantity, chai_type))"
   ]
  },
  {
   "cell_type": "code",
   "execution_count": 108,
   "id": "1ac26d1c-2c09-49a3-98b1-ed0a3e10608d",
   "metadata": {},
   "outputs": [
    {
     "data": {
      "text/plain": [
       "{'Ginger', 'Lemon', 'Masala'}"
      ]
     },
     "execution_count": 108,
     "metadata": {},
     "output_type": "execute_result"
    }
   ],
   "source": [
    "chai_variety = {\"Lemon\", \"Masala\", \"Ginger\"}\n",
    "chai_variety"
   ]
  },
  {
   "cell_type": "code",
   "execution_count": 112,
   "id": "90d8a78e-5883-48ac-b678-f1c1333be3ad",
   "metadata": {},
   "outputs": [
    {
     "name": "stdout",
     "output_type": "stream",
     "text": [
      "MasalaGingerLemon\n"
     ]
    }
   ],
   "source": [
    "print(\"\".join(chai_variety))"
   ]
  },
  {
   "cell_type": "code",
   "execution_count": 116,
   "id": "56e41d39-6cdf-4690-8b96-2b37e7f441b5",
   "metadata": {},
   "outputs": [
    {
     "name": "stdout",
     "output_type": "stream",
     "text": [
      "Masala Ginger Lemon\n"
     ]
    }
   ],
   "source": [
    "print(\" \".join(chai_variety))"
   ]
  },
  {
   "cell_type": "code",
   "execution_count": 122,
   "id": "075c65b8-a0ea-4a89-97af-14b2504d1f87",
   "metadata": {},
   "outputs": [
    {
     "name": "stdout",
     "output_type": "stream",
     "text": [
      "Masala-Ginger-Lemon\n"
     ]
    }
   ],
   "source": [
    "print(\"-\".join(chai_variety))"
   ]
  },
  {
   "cell_type": "code",
   "execution_count": 124,
   "id": "e032740d-5c59-4fb5-9088-5791643d47d0",
   "metadata": {},
   "outputs": [
    {
     "data": {
      "text/plain": [
       "'Masala Chai Chai Chai'"
      ]
     },
     "execution_count": 124,
     "metadata": {},
     "output_type": "execute_result"
    }
   ],
   "source": [
    "chai"
   ]
  },
  {
   "cell_type": "code",
   "execution_count": 128,
   "id": "3f43e08f-5d69-463b-b448-d52d37d3d899",
   "metadata": {},
   "outputs": [
    {
     "name": "stdout",
     "output_type": "stream",
     "text": [
      "11\n"
     ]
    }
   ],
   "source": [
    "chai = \"Masala Chai\"\n",
    "print(len(chai))"
   ]
  },
  {
   "cell_type": "code",
   "execution_count": 130,
   "id": "c86d9ddf-051f-4c7c-8e02-57846585270a",
   "metadata": {},
   "outputs": [
    {
     "name": "stdout",
     "output_type": "stream",
     "text": [
      "M\n",
      "a\n",
      "s\n",
      "a\n",
      "l\n",
      "a\n",
      " \n",
      "C\n",
      "h\n",
      "a\n",
      "i\n"
     ]
    }
   ],
   "source": [
    "for letter in chai:\n",
    "        print(letter)"
   ]
  },
  {
   "cell_type": "code",
   "execution_count": 139,
   "id": "cacda44d-be7b-4dca-81a2-d0be1ee9c729",
   "metadata": {},
   "outputs": [
    {
     "data": {
      "text/plain": [
       "'He said, \"Masala chai is awesom\" '"
      ]
     },
     "execution_count": 139,
     "metadata": {},
     "output_type": "execute_result"
    }
   ],
   "source": [
    "chai = \"He said, \\\"Masala chai is awesom\\\" \"\n",
    "# If you use\\ inside a string then it will allow you to print \"\" also\n",
    "chai"
   ]
  },
  {
   "cell_type": "code",
   "execution_count": 134,
   "id": "fe8d7d09-1101-4708-b74f-0b1e21a93f4e",
   "metadata": {},
   "outputs": [
    {
     "name": "stdout",
     "output_type": "stream",
     "text": [
      "Masala\n",
      "Chai\n",
      "'Masala\\nChai'\n",
      "Masala\\nChai\n"
     ]
    }
   ],
   "source": [
    "chai = \"Masala\\nChai\"\n",
    "print(chai)\n",
    "print(repr(chai))\n",
    "chai = r\"Masala\\nChai\"\n",
    "# This is known as the raw string which allows us to print special characters\n",
    "print(chai)"
   ]
  },
  {
   "cell_type": "code",
   "execution_count": null,
   "id": "ee083536-4638-4e12-8658-9f2d6da35dc0",
   "metadata": {},
   "outputs": [],
   "source": []
  }
 ],
 "metadata": {
  "kernelspec": {
   "display_name": "Python 3 (ipykernel)",
   "language": "python",
   "name": "python3"
  },
  "language_info": {
   "codemirror_mode": {
    "name": "ipython",
    "version": 3
   },
   "file_extension": ".py",
   "mimetype": "text/x-python",
   "name": "python",
   "nbconvert_exporter": "python",
   "pygments_lexer": "ipython3",
   "version": "3.12.4"
  }
 },
 "nbformat": 4,
 "nbformat_minor": 5
}
