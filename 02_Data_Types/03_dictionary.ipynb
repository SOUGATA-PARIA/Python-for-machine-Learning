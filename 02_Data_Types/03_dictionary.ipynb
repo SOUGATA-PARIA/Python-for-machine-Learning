{
 "cells": [
  {
   "cell_type": "markdown",
   "id": "fc01146d-1dab-485b-b0b6-1d0e942686be",
   "metadata": {},
   "source": [
    "## Dictionaray in python"
   ]
  },
  {
   "cell_type": "code",
   "execution_count": 54,
   "id": "cbb017ec-7820-4408-b200-9a5ea821be0e",
   "metadata": {},
   "outputs": [],
   "source": [
    "chai_types = {\"Masala\": \"Spicy\", \"Ginger\": \"Zestry\", \"Green\": \"Mild\"}"
   ]
  },
  {
   "cell_type": "code",
   "execution_count": 56,
   "id": "d03b88b5-01c8-4d06-825e-873e5be5768f",
   "metadata": {},
   "outputs": [
    {
     "name": "stdout",
     "output_type": "stream",
     "text": [
      "{'Masala': 'Spicy', 'Ginger': 'Zestry', 'Green': 'Mild'}\n"
     ]
    }
   ],
   "source": [
    "print(chai_types)"
   ]
  },
  {
   "cell_type": "code",
   "execution_count": 58,
   "id": "a43f20f0-b120-4930-ac10-4770c1f37bab",
   "metadata": {},
   "outputs": [
    {
     "data": {
      "text/plain": [
       "'Spicy'"
      ]
     },
     "execution_count": 58,
     "metadata": {},
     "output_type": "execute_result"
    }
   ],
   "source": [
    "chai_types[\"Masala\"]"
   ]
  },
  {
   "cell_type": "code",
   "execution_count": 60,
   "id": "abfe17bd-5db1-4baf-a8bb-86b6d6b20952",
   "metadata": {},
   "outputs": [
    {
     "data": {
      "text/plain": [
       "'Zestry'"
      ]
     },
     "execution_count": 60,
     "metadata": {},
     "output_type": "execute_result"
    }
   ],
   "source": [
    "chai_types.get(\"Ginger\")"
   ]
  },
  {
   "cell_type": "markdown",
   "id": "a5e22d75-a1c0-42e7-9ec3-7ff6fbe0b448",
   "metadata": {},
   "source": [
    "you must know how to handle data for method and array format"
   ]
  },
  {
   "cell_type": "code",
   "execution_count": 63,
   "id": "75f348c2-b781-4f1d-aab1-3c08d2519844",
   "metadata": {},
   "outputs": [],
   "source": [
    "chai_types.get(\"Gingery\")"
   ]
  },
  {
   "cell_type": "code",
   "execution_count": 65,
   "id": "d4048597-bf6c-401a-8157-f5018ee251d2",
   "metadata": {},
   "outputs": [
    {
     "ename": "KeyError",
     "evalue": "'Gingery'",
     "output_type": "error",
     "traceback": [
      "\u001b[1;31m---------------------------------------------------------------------------\u001b[0m",
      "\u001b[1;31mKeyError\u001b[0m                                  Traceback (most recent call last)",
      "Cell \u001b[1;32mIn[65], line 1\u001b[0m\n\u001b[1;32m----> 1\u001b[0m chai_types[\u001b[38;5;124m\"\u001b[39m\u001b[38;5;124mGingery\u001b[39m\u001b[38;5;124m\"\u001b[39m]\n",
      "\u001b[1;31mKeyError\u001b[0m: 'Gingery'"
     ]
    }
   ],
   "source": [
    "chai_types[\"Gingery\"]"
   ]
  },
  {
   "cell_type": "code",
   "execution_count": 67,
   "id": "e3106fb2-35fe-4338-b945-c91ba5e7b0a9",
   "metadata": {},
   "outputs": [],
   "source": [
    "chai_types[\"Green\"] = \"Fresh\""
   ]
  },
  {
   "cell_type": "code",
   "execution_count": 69,
   "id": "6d8fffae-57dd-4573-a18b-389d2379962e",
   "metadata": {},
   "outputs": [
    {
     "name": "stdout",
     "output_type": "stream",
     "text": [
      "{'Masala': 'Spicy', 'Ginger': 'Zestry', 'Green': 'Fresh'}\n"
     ]
    }
   ],
   "source": [
    "print(chai_types)"
   ]
  },
  {
   "cell_type": "code",
   "execution_count": 71,
   "id": "8dd69e63-42ba-48ae-bece-a1ceca678a4f",
   "metadata": {},
   "outputs": [
    {
     "name": "stdout",
     "output_type": "stream",
     "text": [
      "Masala Ginger Green "
     ]
    }
   ],
   "source": [
    "for chai in chai_types:\n",
    "    print(chai,end = \" \")"
   ]
  },
  {
   "cell_type": "code",
   "execution_count": 73,
   "id": "3507d1e5-bce8-4ad0-a8d1-8e16cba65c50",
   "metadata": {},
   "outputs": [
    {
     "name": "stdout",
     "output_type": "stream",
     "text": [
      "Masala - Spicy,Ginger - Zestry,Green - Fresh,"
     ]
    }
   ],
   "source": [
    "for chai in chai_types:\n",
    "    print(chai,\"-\",chai_types[chai], end = \",\")"
   ]
  },
  {
   "cell_type": "markdown",
   "id": "9b22eb23-c5c7-4bb4-a982-f6f430fc1d1f",
   "metadata": {},
   "source": [
    "Key and the value of the dictionary together is known as item.\n",
    "we can iterate the loop through item"
   ]
  },
  {
   "cell_type": "code",
   "execution_count": 76,
   "id": "14dff296-5fbb-45ab-b369-d21786b70c8b",
   "metadata": {},
   "outputs": [
    {
     "name": "stdout",
     "output_type": "stream",
     "text": [
      "Masala Spicy\n",
      "Ginger Zestry\n",
      "Green Fresh\n"
     ]
    }
   ],
   "source": [
    "for key, value in chai_types.items():\n",
    "    print(key,value)"
   ]
  },
  {
   "cell_type": "code",
   "execution_count": 78,
   "id": "ac4cbab9-fac4-4128-acb3-e402a87654c2",
   "metadata": {},
   "outputs": [
    {
     "name": "stdout",
     "output_type": "stream",
     "text": [
      "{'Masala': 'Spicy', 'Ginger': 'Zesty', 'Green': 'Fresh'}\n"
     ]
    }
   ],
   "source": [
    "chai_types[\"Ginger\"] = \"Zesty\"\n",
    "print(chai_types)"
   ]
  },
  {
   "cell_type": "code",
   "execution_count": 80,
   "id": "462aeb7b-4985-495c-b0f8-7d1d0cc3e478",
   "metadata": {},
   "outputs": [
    {
     "name": "stdout",
     "output_type": "stream",
     "text": [
      "I have Masala Chai\n"
     ]
    }
   ],
   "source": [
    "if \"Masala\" in chai_types:\n",
    "    print(\"I have Masala Chai\")"
   ]
  },
  {
   "cell_type": "code",
   "execution_count": 82,
   "id": "5ad6c6ab-aee4-4a89-8d00-aecefa42ffcc",
   "metadata": {},
   "outputs": [
    {
     "name": "stdout",
     "output_type": "stream",
     "text": [
      "3\n"
     ]
    }
   ],
   "source": [
    "print(len(chai_types))"
   ]
  },
  {
   "cell_type": "code",
   "execution_count": 84,
   "id": "8f8d2b93-3dac-4293-9809-b13929fde8a1",
   "metadata": {},
   "outputs": [],
   "source": [
    "chai_types[\"Earl Grey\"] = \"Citrus\""
   ]
  },
  {
   "cell_type": "code",
   "execution_count": 86,
   "id": "cb6c25d1-75bd-46db-b7de-e013d822c246",
   "metadata": {},
   "outputs": [
    {
     "name": "stdout",
     "output_type": "stream",
     "text": [
      "{'Masala': 'Spicy', 'Ginger': 'Zesty', 'Green': 'Fresh', 'Earl Grey': 'Citrus'}\n"
     ]
    }
   ],
   "source": [
    "print(chai_types)"
   ]
  },
  {
   "cell_type": "code",
   "execution_count": 88,
   "id": "cd177200-5157-444b-a675-d9100c22c534",
   "metadata": {},
   "outputs": [
    {
     "data": {
      "text/plain": [
       "'Zesty'"
      ]
     },
     "execution_count": 88,
     "metadata": {},
     "output_type": "execute_result"
    }
   ],
   "source": [
    "chai_types.pop(\"Ginger\")\n",
    "# By using pop() method you can remove the item having sepecific key"
   ]
  },
  {
   "cell_type": "code",
   "execution_count": 90,
   "id": "4b2bc489-2c6d-47e8-af41-a7aeda08e693",
   "metadata": {},
   "outputs": [
    {
     "data": {
      "text/plain": [
       "('Earl Grey', 'Citrus')"
      ]
     },
     "execution_count": 90,
     "metadata": {},
     "output_type": "execute_result"
    }
   ],
   "source": [
    "chai_types.popitem()\n",
    "# This is the method to remove the last item of the dictionary"
   ]
  },
  {
   "cell_type": "code",
   "execution_count": 93,
   "id": "795e27b7-dace-4b4b-9ad3-2d63fa6a7a10",
   "metadata": {},
   "outputs": [],
   "source": [
    "del chai_types[\"Green\"]\n",
    "# del removes the item from memory"
   ]
  },
  {
   "cell_type": "code",
   "execution_count": 95,
   "id": "8d905b53-266b-4774-8fb1-6092854d6a1d",
   "metadata": {},
   "outputs": [
    {
     "data": {
      "text/plain": [
       "{'Masala': 'Spicy'}"
      ]
     },
     "execution_count": 95,
     "metadata": {},
     "output_type": "execute_result"
    }
   ],
   "source": [
    "chai_types"
   ]
  },
  {
   "cell_type": "code",
   "execution_count": 99,
   "id": "99f31369-bdcb-4b7a-bba6-16eca2709e39",
   "metadata": {},
   "outputs": [
    {
     "name": "stdout",
     "output_type": "stream",
     "text": [
      "2\n",
      "5\n"
     ]
    }
   ],
   "source": [
    "chai_types_copy = chai_types.copy()\n",
    "import sys\n",
    "print(sys.getrefcount(chai_types_copy))\n",
    "print(sys.getrefcount(chai_types))"
   ]
  },
  {
   "cell_type": "code",
   "execution_count": 103,
   "id": "9e3f7cb1-7890-4512-941c-6d20feccc8a6",
   "metadata": {},
   "outputs": [],
   "source": [
    "tea_shop = {\n",
    "    \"chai\": {\"Masala\": \"Spicy\", \"Ginger\": \"Zesty\"},\n",
    "    \"Tea\": {\"Green\": \"Mild\", \"Black\": \"Strong\"}\n",
    "}"
   ]
  },
  {
   "cell_type": "code",
   "execution_count": 107,
   "id": "0de92157-8fb6-42a4-a951-28ff0bb25bfb",
   "metadata": {},
   "outputs": [
    {
     "name": "stdout",
     "output_type": "stream",
     "text": [
      "{'chai': {'Masala': 'Spicy', 'Ginger': 'Zesty'}, 'Tea': {'Green': 'Mild', 'Black': 'Strong'}}\n"
     ]
    }
   ],
   "source": [
    "print(tea_shop)"
   ]
  },
  {
   "cell_type": "code",
   "execution_count": 109,
   "id": "c23077d0-9788-49ba-9be7-d8c623ab4cef",
   "metadata": {},
   "outputs": [
    {
     "data": {
      "text/plain": [
       "{'Masala': 'Spicy', 'Ginger': 'Zesty'}"
      ]
     },
     "execution_count": 109,
     "metadata": {},
     "output_type": "execute_result"
    }
   ],
   "source": [
    "tea_shop[\"chai\"]"
   ]
  },
  {
   "cell_type": "code",
   "execution_count": 111,
   "id": "77cad75a-e743-4e11-bdb2-aa16eb36d311",
   "metadata": {},
   "outputs": [
    {
     "data": {
      "text/plain": [
       "{'Green': 'Mild', 'Black': 'Strong'}"
      ]
     },
     "execution_count": 111,
     "metadata": {},
     "output_type": "execute_result"
    }
   ],
   "source": [
    "tea_shop.get(\"Tea\")"
   ]
  },
  {
   "cell_type": "code",
   "execution_count": 113,
   "id": "78913d10-dc72-4f97-971f-90df7fdd0608",
   "metadata": {},
   "outputs": [
    {
     "data": {
      "text/plain": [
       "'Zesty'"
      ]
     },
     "execution_count": 113,
     "metadata": {},
     "output_type": "execute_result"
    }
   ],
   "source": [
    "tea_shop[\"chai\"][\"Ginger\"]"
   ]
  },
  {
   "cell_type": "code",
   "execution_count": 119,
   "id": "962eba14-939d-4ae7-b232-59f1a5280543",
   "metadata": {},
   "outputs": [
    {
     "name": "stdout",
     "output_type": "stream",
     "text": [
      "{0: 0, 1: 1, 2: 4, 3: 9, 4: 16, 5: 25}\n"
     ]
    }
   ],
   "source": [
    "squared_num = {x:x**2 for x in range(6)}\n",
    "print(squared_num)"
   ]
  },
  {
   "cell_type": "code",
   "execution_count": 121,
   "id": "7912c7ee-b822-4bff-99fa-9a5d34221c6f",
   "metadata": {},
   "outputs": [],
   "source": [
    "squared_num.clear()"
   ]
  },
  {
   "cell_type": "code",
   "execution_count": 125,
   "id": "24182786-5831-456e-985b-b349f3580e82",
   "metadata": {},
   "outputs": [
    {
     "data": {
      "text/plain": [
       "{}"
      ]
     },
     "execution_count": 125,
     "metadata": {},
     "output_type": "execute_result"
    }
   ],
   "source": [
    "squared_num"
   ]
  },
  {
   "cell_type": "code",
   "execution_count": 127,
   "id": "00f55771-6168-49cf-9d9e-88e9fe30b4c4",
   "metadata": {},
   "outputs": [
    {
     "data": {
      "text/plain": [
       "['Masala', 'Ginger', 'Lemon']"
      ]
     },
     "execution_count": 127,
     "metadata": {},
     "output_type": "execute_result"
    }
   ],
   "source": [
    "keys = [\"Masala\", \"Ginger\", \"Lemon\"]\n",
    "keys"
   ]
  },
  {
   "cell_type": "code",
   "execution_count": 129,
   "id": "eb94d6d1-67b2-423e-a78f-5d0d9512cb38",
   "metadata": {},
   "outputs": [],
   "source": [
    "default_value = \"Delicious\""
   ]
  },
  {
   "cell_type": "code",
   "execution_count": 131,
   "id": "3adbe690-4b34-4ffb-bc24-93b68a2858e5",
   "metadata": {},
   "outputs": [],
   "source": [
    "new_dict =dict.fromkeys(keys,default_value)"
   ]
  },
  {
   "cell_type": "code",
   "execution_count": 133,
   "id": "eca421e9-7a20-4a9c-9137-1a35658a5137",
   "metadata": {},
   "outputs": [
    {
     "data": {
      "text/plain": [
       "{'Masala': 'Delicious', 'Ginger': 'Delicious', 'Lemon': 'Delicious'}"
      ]
     },
     "execution_count": 133,
     "metadata": {},
     "output_type": "execute_result"
    }
   ],
   "source": [
    "new_dict"
   ]
  },
  {
   "cell_type": "code",
   "execution_count": 135,
   "id": "1f9c9eef-7e46-45a7-ac3e-9e4ebe1de26e",
   "metadata": {},
   "outputs": [],
   "source": [
    "new_dict2 = dict.fromkeys(keys,keys)"
   ]
  },
  {
   "cell_type": "code",
   "execution_count": 137,
   "id": "a579e006-783f-4774-a1f7-eae05711325a",
   "metadata": {},
   "outputs": [
    {
     "data": {
      "text/plain": [
       "{'Masala': ['Masala', 'Ginger', 'Lemon'],\n",
       " 'Ginger': ['Masala', 'Ginger', 'Lemon'],\n",
       " 'Lemon': ['Masala', 'Ginger', 'Lemon']}"
      ]
     },
     "execution_count": 137,
     "metadata": {},
     "output_type": "execute_result"
    }
   ],
   "source": [
    "new_dict2"
   ]
  },
  {
   "cell_type": "code",
   "execution_count": null,
   "id": "acabe230-d13f-4678-b6e8-bb60274f14d2",
   "metadata": {},
   "outputs": [],
   "source": []
  }
 ],
 "metadata": {
  "kernelspec": {
   "display_name": "Python 3 (ipykernel)",
   "language": "python",
   "name": "python3"
  },
  "language_info": {
   "codemirror_mode": {
    "name": "ipython",
    "version": 3
   },
   "file_extension": ".py",
   "mimetype": "text/x-python",
   "name": "python",
   "nbconvert_exporter": "python",
   "pygments_lexer": "ipython3",
   "version": "3.12.4"
  }
 },
 "nbformat": 4,
 "nbformat_minor": 5
}
