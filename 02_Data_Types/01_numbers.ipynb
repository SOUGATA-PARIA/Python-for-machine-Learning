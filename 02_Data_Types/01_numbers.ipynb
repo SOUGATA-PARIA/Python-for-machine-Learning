{
 "cells": [
  {
   "cell_type": "markdown",
   "id": "cbf9f66a-bb6a-48a5-b2e1-236602357089",
   "metadata": {},
   "source": [
    "# Numbers in python"
   ]
  },
  {
   "cell_type": "code",
   "execution_count": null,
   "id": "103ac6ed-8d35-4498-8079-6e3335835320",
   "metadata": {},
   "outputs": [],
   "source": [
    "## In python Number is not a single object it is a group of objects."
   ]
  },
  {
   "cell_type": "code",
   "execution_count": 11,
   "id": "72cfb17c-fb65-455e-a104-8e8107727854",
   "metadata": {},
   "outputs": [],
   "source": [
    "x = 2\n",
    "y = 3\n",
    "z = 4"
   ]
  },
  {
   "cell_type": "code",
   "execution_count": 13,
   "id": "9137ed2f-cc5b-46e7-9931-c6d6c04cbb33",
   "metadata": {},
   "outputs": [
    {
     "data": {
      "text/plain": [
       "5"
      ]
     },
     "execution_count": 13,
     "metadata": {},
     "output_type": "execute_result"
    }
   ],
   "source": [
    "x + y"
   ]
  },
  {
   "cell_type": "code",
   "execution_count": 15,
   "id": "e6805b5a-6845-4470-bdf6-17428e47ad4b",
   "metadata": {},
   "outputs": [
    {
     "data": {
      "text/plain": [
       "20"
      ]
     },
     "execution_count": 15,
     "metadata": {},
     "output_type": "execute_result"
    }
   ],
   "source": [
    "(x + y) * z"
   ]
  },
  {
   "cell_type": "code",
   "execution_count": 25,
   "id": "3be135e3-9d13-48b3-8368-04224c0f6a8c",
   "metadata": {},
   "outputs": [
    {
     "name": "stdout",
     "output_type": "stream",
     "text": [
      "42.23\n",
      "44.3\n"
     ]
    }
   ],
   "source": [
    "print(40 + 2.23)\n",
    "# but always try to provide the data in same data types\n",
    "print(42.0 + 2.3)"
   ]
  },
  {
   "cell_type": "code",
   "execution_count": 27,
   "id": "56d31745-a6a1-419c-8e31-684a6478cedf",
   "metadata": {},
   "outputs": [
    {
     "ename": "TypeError",
     "evalue": "can only concatenate str (not \"int\") to str",
     "output_type": "error",
     "traceback": [
      "\u001b[1;31m---------------------------------------------------------------------------\u001b[0m",
      "\u001b[1;31mTypeError\u001b[0m                                 Traceback (most recent call last)",
      "Cell \u001b[1;32mIn[27], line 1\u001b[0m\n\u001b[1;32m----> 1\u001b[0m \u001b[38;5;124m'\u001b[39m\u001b[38;5;124msougata\u001b[39m\u001b[38;5;124m'\u001b[39m \u001b[38;5;241m+\u001b[39m \u001b[38;5;241m4\u001b[39m\n",
      "\u001b[1;31mTypeError\u001b[0m: can only concatenate str (not \"int\") to str"
     ]
    }
   ],
   "source": [
    "'sougata' + 4"
   ]
  },
  {
   "cell_type": "code",
   "execution_count": 29,
   "id": "1fa99bd0-029c-4f40-b965-3b88c7451e99",
   "metadata": {},
   "outputs": [
    {
     "data": {
      "text/plain": [
       "'sougatasougatasougatasougata'"
      ]
     },
     "execution_count": 29,
     "metadata": {},
     "output_type": "execute_result"
    }
   ],
   "source": [
    "'sougata' * 4"
   ]
  },
  {
   "cell_type": "code",
   "execution_count": 31,
   "id": "bb0e8ffc-6d51-427b-81b4-2b12e11ca878",
   "metadata": {},
   "outputs": [
    {
     "data": {
      "text/plain": [
       "2"
      ]
     },
     "execution_count": 31,
     "metadata": {},
     "output_type": "execute_result"
    }
   ],
   "source": [
    "int(2.3)\n",
    "# use type casting"
   ]
  },
  {
   "cell_type": "code",
   "execution_count": 33,
   "id": "6c67ef46-e731-4ee2-b1a8-dbe500544e7d",
   "metadata": {},
   "outputs": [
    {
     "data": {
      "text/plain": [
       "40.0"
      ]
     },
     "execution_count": 33,
     "metadata": {},
     "output_type": "execute_result"
    }
   ],
   "source": [
    "float(40) "
   ]
  },
  {
   "cell_type": "code",
   "execution_count": 35,
   "id": "f1a5964a-bdfe-4ffe-bcbf-104569bf9ce7",
   "metadata": {},
   "outputs": [
    {
     "data": {
      "text/plain": [
       "42.3"
      ]
     },
     "execution_count": 35,
     "metadata": {},
     "output_type": "execute_result"
    }
   ],
   "source": [
    "float(40) + 2.3"
   ]
  },
  {
   "cell_type": "code",
   "execution_count": 37,
   "id": "0bee7838-b09b-4d96-a914-da01563f3b00",
   "metadata": {},
   "outputs": [
    {
     "data": {
      "text/plain": [
       "'sougata Paria'"
      ]
     },
     "execution_count": 37,
     "metadata": {},
     "output_type": "execute_result"
    }
   ],
   "source": [
    "# operator overloading is available in python\n",
    "\"sougata \" + \"Paria\""
   ]
  },
  {
   "cell_type": "code",
   "execution_count": 39,
   "id": "16c87747-8c34-4310-9486-b38ae6d0784b",
   "metadata": {},
   "outputs": [
    {
     "data": {
      "text/plain": [
       "(2, 3, 4)"
      ]
     },
     "execution_count": 39,
     "metadata": {},
     "output_type": "execute_result"
    }
   ],
   "source": [
    "x, y, z\n",
    "# when you are giving two three variable same prferance\n",
    "# or when you are fetching two three varialble data together or even more number of varialble\n",
    "# Or, the result is comming from API\n",
    "# Then the output comes in form of tuple"
   ]
  },
  {
   "cell_type": "code",
   "execution_count": 41,
   "id": "8f60ef71-a0c2-422d-97b4-cb74790bb39b",
   "metadata": {},
   "outputs": [
    {
     "data": {
      "text/plain": [
       "(3, 5)"
      ]
     },
     "execution_count": 41,
     "metadata": {},
     "output_type": "execute_result"
    }
   ],
   "source": [
    "x + 1, y + 2\n",
    "# even you can go with calculation and get result in form of this tuple"
   ]
  },
  {
   "cell_type": "code",
   "execution_count": 43,
   "id": "8483dbf2-d55f-4c0e-8556-7d3877c043b4",
   "metadata": {},
   "outputs": [
    {
     "data": {
      "text/plain": [
       "1"
      ]
     },
     "execution_count": 43,
     "metadata": {},
     "output_type": "execute_result"
    }
   ],
   "source": [
    "y % 2\n",
    "# it calculates the remainder"
   ]
  },
  {
   "cell_type": "code",
   "execution_count": 49,
   "id": "a8439af9-8edb-4142-8ba8-039b35486d13",
   "metadata": {},
   "outputs": [
    {
     "name": "stdout",
     "output_type": "stream",
     "text": [
      "16\n",
      "1024\n",
      "10000\n"
     ]
    },
    {
     "data": {
      "text/plain": [
       "10715086071862673209484250490600018105614048117055336074437503883703510511249361224931983788156958581275946729175531468251871452856923140435984577574698574803934567774824230985421074605062371141877954182153046474983581941267398767559165543946077062914571196477686542167660429831652624386837205668069376"
      ]
     },
     "execution_count": 49,
     "metadata": {},
     "output_type": "execute_result"
    }
   ],
   "source": [
    "# You can calculate the power of any number\n",
    "print(z ** 2)\n",
    "print(z ** 5)\n",
    "print(100 ** 2)\n",
    "2 ** 1000\n",
    "# Python has almost infinite power of number handling capabilities\n",
    "# Most of the languages fails to do this"
   ]
  },
  {
   "cell_type": "code",
   "execution_count": 59,
   "id": "dbd28c72-3d2e-486f-9a6a-be8c567aa7a6",
   "metadata": {},
   "outputs": [
    {
     "data": {
      "text/plain": [
       "0.3333333333333333"
      ]
     },
     "execution_count": 59,
     "metadata": {},
     "output_type": "execute_result"
    }
   ],
   "source": [
    "result = 1/3.00\n",
    "result\n",
    "# generally we do not want to print data like this in real world problem solving\n",
    "# or we do not want that the user would watch this kind of output and get confused\n",
    "# We would go for string formatting then"
   ]
  },
  {
   "cell_type": "code",
   "execution_count": 73,
   "id": "ef3c6459-6237-4f64-90bb-561151444bbc",
   "metadata": {},
   "outputs": [
    {
     "data": {
      "text/plain": [
       "\"'sougata'\""
      ]
     },
     "execution_count": 73,
     "metadata": {},
     "output_type": "execute_result"
    }
   ],
   "source": [
    "repr('sougata')"
   ]
  },
  {
   "cell_type": "code",
   "execution_count": 69,
   "id": "4fc4cf68-60b1-41ae-a904-5d6f17cd89c7",
   "metadata": {},
   "outputs": [
    {
     "name": "stdout",
     "output_type": "stream",
     "text": [
      "'sougata'\n"
     ]
    }
   ],
   "source": [
    "print(repr('sougata'))"
   ]
  },
  {
   "cell_type": "code",
   "execution_count": 75,
   "id": "cd293a15-2ef5-4022-ba49-83bd4ae50d33",
   "metadata": {},
   "outputs": [
    {
     "data": {
      "text/plain": [
       "'sougata'"
      ]
     },
     "execution_count": 75,
     "metadata": {},
     "output_type": "execute_result"
    }
   ],
   "source": [
    "str('sougata')"
   ]
  },
  {
   "cell_type": "code",
   "execution_count": 71,
   "id": "5fbc40e7-43a4-4a36-97df-e811a797dc81",
   "metadata": {},
   "outputs": [
    {
     "name": "stdout",
     "output_type": "stream",
     "text": [
      "sougata\n"
     ]
    }
   ],
   "source": [
    "print(str('sougata'))"
   ]
  },
  {
   "cell_type": "code",
   "execution_count": 67,
   "id": "701851bd-8c72-44fd-9e37-49c890c1c849",
   "metadata": {},
   "outputs": [
    {
     "name": "stdout",
     "output_type": "stream",
     "text": [
      "sougata\n"
     ]
    }
   ],
   "source": [
    "print('sougata')"
   ]
  },
  {
   "cell_type": "markdown",
   "id": "ba59fab1-fd8f-4439-8a62-5e6f40929391",
   "metadata": {},
   "source": [
    "## datetime API and use of repr() and str()"
   ]
  },
  {
   "cell_type": "code",
   "execution_count": 92,
   "id": "372450b5-3556-4591-9d5f-793ce1a194a1",
   "metadata": {},
   "outputs": [
    {
     "name": "stdout",
     "output_type": "stream",
     "text": [
      "<class 'datetime.datetime'>\n",
      "datetime.datetime(2024, 10, 24, 14, 16, 31, 87994)\n",
      "2024-10-24 14:16:31.087994\n"
     ]
    }
   ],
   "source": [
    "import datetime\n",
    "today = datetime.datetime.now()\n",
    "print(type(today))\n",
    "print(repr(today))\n",
    "# This prints the official format of date and time \n",
    "print(str(today))\n",
    "#This prints the readable format of date and time"
   ]
  },
  {
   "cell_type": "markdown",
   "id": "8aea2818-6bc9-4606-9705-13a29f6f5d8e",
   "metadata": {},
   "source": [
    "# comparison"
   ]
  },
  {
   "cell_type": "code",
   "execution_count": 100,
   "id": "cf801647-0897-43ac-8466-76f2f2c58d64",
   "metadata": {},
   "outputs": [
    {
     "data": {
      "text/plain": [
       "True"
      ]
     },
     "execution_count": 100,
     "metadata": {},
     "output_type": "execute_result"
    }
   ],
   "source": [
    "1 < 2\n",
    "# you get results in form of boolean values\n",
    "#in puython value of True is (1) & False is (0)\n",
    "# In python Boolean values are also treated as number just by using repr python shows this as Boolean"
   ]
  },
  {
   "cell_type": "code",
   "execution_count": 102,
   "id": "7d0e65bc-52d3-4bbe-8da3-873782f14a8b",
   "metadata": {},
   "outputs": [
    {
     "data": {
      "text/plain": [
       "True"
      ]
     },
     "execution_count": 102,
     "metadata": {},
     "output_type": "execute_result"
    }
   ],
   "source": [
    "5.0 == 5.0"
   ]
  },
  {
   "cell_type": "code",
   "execution_count": 104,
   "id": "3f9736d2-16e4-4583-9633-a00e62e90432",
   "metadata": {},
   "outputs": [
    {
     "data": {
      "text/plain": [
       "True"
      ]
     },
     "execution_count": 104,
     "metadata": {},
     "output_type": "execute_result"
    }
   ],
   "source": [
    "4.0 != 5.0"
   ]
  },
  {
   "cell_type": "code",
   "execution_count": 106,
   "id": "64d6ee57-478a-4d7a-9e34-1c8805c4204c",
   "metadata": {},
   "outputs": [
    {
     "data": {
      "text/plain": [
       "(2, 3, 4)"
      ]
     },
     "execution_count": 106,
     "metadata": {},
     "output_type": "execute_result"
    }
   ],
   "source": [
    "# chained comparison\n",
    "x, y, z"
   ]
  },
  {
   "cell_type": "code",
   "execution_count": 114,
   "id": "c6c2b9dc-e279-41b5-8eae-17eab1095776",
   "metadata": {},
   "outputs": [
    {
     "data": {
      "text/plain": [
       "True"
      ]
     },
     "execution_count": 114,
     "metadata": {},
     "output_type": "execute_result"
    }
   ],
   "source": [
    "x < y < z\n",
    "# Short hand implementation and try to avoid it"
   ]
  },
  {
   "cell_type": "code",
   "execution_count": 116,
   "id": "4a2a3608-45d3-46bb-b181-abbb3001514a",
   "metadata": {},
   "outputs": [
    {
     "data": {
      "text/plain": [
       "True"
      ]
     },
     "execution_count": 116,
     "metadata": {},
     "output_type": "execute_result"
    }
   ],
   "source": [
    "x < y and y < z\n",
    "# This is the actual form of realization and try to use this"
   ]
  },
  {
   "cell_type": "code",
   "execution_count": 118,
   "id": "39c88fc5-dde4-41af-a28e-8b3d81aa8774",
   "metadata": {},
   "outputs": [
    {
     "data": {
      "text/plain": [
       "True"
      ]
     },
     "execution_count": 118,
     "metadata": {},
     "output_type": "execute_result"
    }
   ],
   "source": [
    "x < y or y > z"
   ]
  },
  {
   "cell_type": "code",
   "execution_count": 120,
   "id": "9070ef5b-34ea-4662-b6aa-c245981d1930",
   "metadata": {},
   "outputs": [
    {
     "data": {
      "text/plain": [
       "False"
      ]
     },
     "execution_count": 120,
     "metadata": {},
     "output_type": "execute_result"
    }
   ],
   "source": [
    "1 == 2 < 3"
   ]
  },
  {
   "cell_type": "code",
   "execution_count": 122,
   "id": "0c33ea3d-1428-4b16-a741-2bc824f2397a",
   "metadata": {},
   "outputs": [
    {
     "data": {
      "text/plain": [
       "False"
      ]
     },
     "execution_count": 122,
     "metadata": {},
     "output_type": "execute_result"
    }
   ],
   "source": [
    "1 == 2 and 2 < 3\n",
    "# (False) and (True) => (False) "
   ]
  },
  {
   "cell_type": "code",
   "execution_count": 124,
   "id": "e10ed5b9-57af-4802-9bdc-f222d53de501",
   "metadata": {},
   "outputs": [
    {
     "data": {
      "text/plain": [
       "False"
      ]
     },
     "execution_count": 124,
     "metadata": {},
     "output_type": "execute_result"
    }
   ],
   "source": [
    "True == 3"
   ]
  },
  {
   "cell_type": "code",
   "execution_count": 126,
   "id": "e5beb5e3-e465-4737-8bf3-e4a35a624c76",
   "metadata": {},
   "outputs": [],
   "source": [
    "import math"
   ]
  },
  {
   "cell_type": "code",
   "execution_count": 128,
   "id": "5adc14e7-a217-4442-b89f-550c8c942744",
   "metadata": {},
   "outputs": [
    {
     "data": {
      "text/plain": [
       "3"
      ]
     },
     "execution_count": 128,
     "metadata": {},
     "output_type": "execute_result"
    }
   ],
   "source": [
    "math.floor(3.5)\n",
    "# It is the greatest integer funcion"
   ]
  },
  {
   "cell_type": "code",
   "execution_count": 130,
   "id": "019ecd9a-642d-4ccd-b1e2-56834646b63c",
   "metadata": {},
   "outputs": [
    {
     "data": {
      "text/plain": [
       "-4"
      ]
     },
     "execution_count": 130,
     "metadata": {},
     "output_type": "execute_result"
    }
   ],
   "source": [
    "math.floor(-3.4)"
   ]
  },
  {
   "cell_type": "code",
   "execution_count": 132,
   "id": "c4c71315-15b5-4436-a906-3e82c208474d",
   "metadata": {},
   "outputs": [
    {
     "data": {
      "text/plain": [
       "3"
      ]
     },
     "execution_count": 132,
     "metadata": {},
     "output_type": "execute_result"
    }
   ],
   "source": [
    "math.trunc(3.4)\n",
    "# This method takes you toward 0"
   ]
  },
  {
   "cell_type": "code",
   "execution_count": 134,
   "id": "7a89ac83-d6c6-4274-b6f1-ae580ae02d6d",
   "metadata": {},
   "outputs": [
    {
     "data": {
      "text/plain": [
       "-2"
      ]
     },
     "execution_count": 134,
     "metadata": {},
     "output_type": "execute_result"
    }
   ],
   "source": [
    "math.trunc(-2.3)"
   ]
  },
  {
   "cell_type": "code",
   "execution_count": 136,
   "id": "0f96e799-609b-4ce4-8958-f23398a76716",
   "metadata": {},
   "outputs": [],
   "source": [
    "# In python number precision is approximately infinite"
   ]
  },
  {
   "cell_type": "code",
   "execution_count": 144,
   "id": "8203e3cf-9f73-454f-8a0f-cab1e485d1a5",
   "metadata": {},
   "outputs": [
    {
     "data": {
      "text/plain": [
       "2.1e+30"
      ]
     },
     "execution_count": 144,
     "metadata": {},
     "output_type": "execute_result"
    }
   ],
   "source": [
    "999999999999999999999999999999 * 2.1\n",
    "# We will look upon it later how to handle this kind of number\n"
   ]
  },
  {
   "cell_type": "code",
   "execution_count": 146,
   "id": "f8cf7b4e-4478-41c3-95e8-9407d58119b1",
   "metadata": {},
   "outputs": [],
   "source": [
    "# Python can handle also complex type of number or imaginary number"
   ]
  },
  {
   "cell_type": "code",
   "execution_count": 148,
   "id": "89198866-689f-4a43-8c8e-1e57037b5b84",
   "metadata": {},
   "outputs": [
    {
     "data": {
      "text/plain": [
       "(2+1j)"
      ]
     },
     "execution_count": 148,
     "metadata": {},
     "output_type": "execute_result"
    }
   ],
   "source": [
    "2 + 1j"
   ]
  },
  {
   "cell_type": "code",
   "execution_count": 150,
   "id": "a7678ba9-7131-4224-8bc6-05cfb1782e99",
   "metadata": {},
   "outputs": [
    {
     "data": {
      "text/plain": [
       "(9+18j)"
      ]
     },
     "execution_count": 150,
     "metadata": {},
     "output_type": "execute_result"
    }
   ],
   "source": [
    "(3 + 6j) * 3"
   ]
  },
  {
   "cell_type": "code",
   "execution_count": 154,
   "id": "b6dbc8dd-294a-46dd-bcf4-7968163fb395",
   "metadata": {},
   "outputs": [
    {
     "data": {
      "text/plain": [
       "(34+0j)"
      ]
     },
     "execution_count": 154,
     "metadata": {},
     "output_type": "execute_result"
    }
   ],
   "source": [
    "(5 + 3j) * (5 - 3j)"
   ]
  },
  {
   "cell_type": "code",
   "execution_count": 156,
   "id": "f9d5eb90-7372-4e5e-a82f-312ea670cffc",
   "metadata": {},
   "outputs": [
    {
     "data": {
      "text/plain": [
       "16"
      ]
     },
     "execution_count": 156,
     "metadata": {},
     "output_type": "execute_result"
    }
   ],
   "source": [
    "0o20\n",
    "# octal litrale"
   ]
  },
  {
   "cell_type": "code",
   "execution_count": 158,
   "id": "c3b9a3d3-9d7c-4c60-8396-9d78ecfd452a",
   "metadata": {},
   "outputs": [
    {
     "data": {
      "text/plain": [
       "255"
      ]
     },
     "execution_count": 158,
     "metadata": {},
     "output_type": "execute_result"
    }
   ],
   "source": [
    "0xFF\n",
    "# hexadecimal litrale"
   ]
  },
  {
   "cell_type": "code",
   "execution_count": 160,
   "id": "512a7666-28af-4def-a615-3f0a67faa99d",
   "metadata": {},
   "outputs": [
    {
     "data": {
      "text/plain": [
       "8"
      ]
     },
     "execution_count": 160,
     "metadata": {},
     "output_type": "execute_result"
    }
   ],
   "source": [
    "0b1000\n",
    "# binary litrale"
   ]
  },
  {
   "cell_type": "code",
   "execution_count": 162,
   "id": "8f02f24d-350b-4bb6-a8ab-501117631c6b",
   "metadata": {},
   "outputs": [
    {
     "data": {
      "text/plain": [
       "'0o100'"
      ]
     },
     "execution_count": 162,
     "metadata": {},
     "output_type": "execute_result"
    }
   ],
   "source": [
    "oct(64)"
   ]
  },
  {
   "cell_type": "code",
   "execution_count": 164,
   "id": "86ca7db8-10e1-4f86-97cf-b645a19181f5",
   "metadata": {},
   "outputs": [
    {
     "data": {
      "text/plain": [
       "'0x40'"
      ]
     },
     "execution_count": 164,
     "metadata": {},
     "output_type": "execute_result"
    }
   ],
   "source": [
    "hex(64)"
   ]
  },
  {
   "cell_type": "code",
   "execution_count": 166,
   "id": "a46c3eb9-16f6-42ca-904d-3fddd4f33e4b",
   "metadata": {},
   "outputs": [
    {
     "data": {
      "text/plain": [
       "'0b1000000'"
      ]
     },
     "execution_count": 166,
     "metadata": {},
     "output_type": "execute_result"
    }
   ],
   "source": [
    "bin(64)"
   ]
  },
  {
   "cell_type": "code",
   "execution_count": 168,
   "id": "1472a97c-ae71-4ad6-b026-c1cdb24b6990",
   "metadata": {},
   "outputs": [
    {
     "data": {
      "text/plain": [
       "3"
      ]
     },
     "execution_count": 168,
     "metadata": {},
     "output_type": "execute_result"
    }
   ],
   "source": [
    "int(3.14)"
   ]
  },
  {
   "cell_type": "code",
   "execution_count": 180,
   "id": "172ad18f-413b-4d3d-b24d-d27afaa17527",
   "metadata": {},
   "outputs": [
    {
     "data": {
      "text/plain": [
       "52"
      ]
     },
     "execution_count": 180,
     "metadata": {},
     "output_type": "execute_result"
    }
   ],
   "source": [
    "int('64',8)\n",
    "# This method is used for coverting from any other number system to decimal number system\n",
    "# The provided number should be a string i.e inside '' and the base value should be mentioned seperated by comma"
   ]
  },
  {
   "cell_type": "code",
   "execution_count": 182,
   "id": "4cd5947f-27ff-4a3f-8b48-174417df3948",
   "metadata": {},
   "outputs": [
    {
     "data": {
      "text/plain": [
       "16"
      ]
     },
     "execution_count": 182,
     "metadata": {},
     "output_type": "execute_result"
    }
   ],
   "source": [
    "int('10000',2)"
   ]
  },
  {
   "cell_type": "code",
   "execution_count": 184,
   "id": "f3563586-dd45-417e-baa0-39eeb6ca1d54",
   "metadata": {},
   "outputs": [],
   "source": [
    "import random"
   ]
  },
  {
   "cell_type": "code",
   "execution_count": 188,
   "id": "57d2ba16-b2f0-40e1-89bb-9234564477b8",
   "metadata": {},
   "outputs": [
    {
     "data": {
      "text/plain": [
       "0.8725005298815868"
      ]
     },
     "execution_count": 188,
     "metadata": {},
     "output_type": "execute_result"
    }
   ],
   "source": [
    "random.random()\n",
    "# it gives value between zero and one"
   ]
  },
  {
   "cell_type": "code",
   "execution_count": 192,
   "id": "51a9d482-6949-4383-816a-0fa743e4e6f7",
   "metadata": {},
   "outputs": [
    {
     "data": {
      "text/plain": [
       "7"
      ]
     },
     "execution_count": 192,
     "metadata": {},
     "output_type": "execute_result"
    }
   ],
   "source": [
    "random.randint(1,100)\n",
    "# 100 do not gets included"
   ]
  },
  {
   "cell_type": "code",
   "execution_count": 194,
   "id": "058c3901-2c26-45d6-96d8-4d23c9e8c1de",
   "metadata": {},
   "outputs": [
    {
     "data": {
      "text/plain": [
       "'ginger'"
      ]
     },
     "execution_count": 194,
     "metadata": {},
     "output_type": "execute_result"
    }
   ],
   "source": [
    "# You can get choice also\n",
    "l1 = ['lemon', 'masala', 'ginger', 'mint']\n",
    "random.choice(l1)"
   ]
  },
  {
   "cell_type": "code",
   "execution_count": 202,
   "id": "14ba553f-5462-4fc0-8309-06ab25474978",
   "metadata": {},
   "outputs": [
    {
     "data": {
      "text/plain": [
       "['mint', 'lemon', 'masala', 'ginger']"
      ]
     },
     "execution_count": 202,
     "metadata": {},
     "output_type": "execute_result"
    }
   ],
   "source": [
    "random.shuffle(l1)\n",
    "l1"
   ]
  },
  {
   "cell_type": "markdown",
   "id": "0ab8c6c2-75bb-44a4-80ae-7164175dffe2",
   "metadata": {},
   "source": [
    "# Avnormal behaviour of python"
   ]
  },
  {
   "cell_type": "code",
   "execution_count": 204,
   "id": "24d06352-42c8-4a35-909e-423ddf860797",
   "metadata": {},
   "outputs": [
    {
     "data": {
      "text/plain": [
       "0.6000000000000001"
      ]
     },
     "execution_count": 204,
     "metadata": {},
     "output_type": "execute_result"
    }
   ],
   "source": [
    "0.1 + 0.1 + 0.4"
   ]
  },
  {
   "cell_type": "code",
   "execution_count": 209,
   "id": "ad83bb32-611f-4098-951d-ed58d7cba25e",
   "metadata": {},
   "outputs": [
    {
     "data": {
      "text/plain": [
       "0.30000000000000004"
      ]
     },
     "execution_count": 209,
     "metadata": {},
     "output_type": "execute_result"
    }
   ],
   "source": [
    "0.1 + 0.1 + 0.1"
   ]
  },
  {
   "cell_type": "code",
   "execution_count": 211,
   "id": "9bd505a5-4e2b-4c2c-83fc-4508c240344e",
   "metadata": {},
   "outputs": [
    {
     "data": {
      "text/plain": [
       "5.551115123125783e-17"
      ]
     },
     "execution_count": 211,
     "metadata": {},
     "output_type": "execute_result"
    }
   ],
   "source": [
    "0.1 + 0.1 + 0.1 - 0.3"
   ]
  },
  {
   "cell_type": "code",
   "execution_count": 213,
   "id": "41dff6aa-6bd1-4621-95e1-c833676a65e4",
   "metadata": {},
   "outputs": [
    {
     "data": {
      "text/plain": [
       "5.551115123125783e-17"
      ]
     },
     "execution_count": 213,
     "metadata": {},
     "output_type": "execute_result"
    }
   ],
   "source": [
    "(0.1 + 0.1 + 0.1) - 0.3"
   ]
  },
  {
   "cell_type": "code",
   "execution_count": 215,
   "id": "1cb4c9c2-b227-4e00-bab5-7b14959dff42",
   "metadata": {},
   "outputs": [],
   "source": [
    "from decimal import Decimal"
   ]
  },
  {
   "cell_type": "code",
   "execution_count": 217,
   "id": "13737653-0f3a-4623-9205-435953995a50",
   "metadata": {},
   "outputs": [
    {
     "data": {
      "text/plain": [
       "Decimal('0.3')"
      ]
     },
     "execution_count": 217,
     "metadata": {},
     "output_type": "execute_result"
    }
   ],
   "source": [
    "Decimal('0.1') + Decimal('0.1') + Decimal('0.1') "
   ]
  },
  {
   "cell_type": "code",
   "execution_count": 221,
   "id": "d6217f1f-7eb3-41b0-b572-acec8b4efdbb",
   "metadata": {},
   "outputs": [
    {
     "data": {
      "text/plain": [
       "Decimal('0.0')"
      ]
     },
     "execution_count": 221,
     "metadata": {},
     "output_type": "execute_result"
    }
   ],
   "source": [
    "Decimal('0.1') + Decimal('0.1') + Decimal('0.1') - Decimal('0.3')"
   ]
  },
  {
   "cell_type": "code",
   "execution_count": 225,
   "id": "156efee1-8351-4811-a316-62d95d582175",
   "metadata": {},
   "outputs": [
    {
     "data": {
      "text/plain": [
       "Fraction(2, 7)"
      ]
     },
     "execution_count": 225,
     "metadata": {},
     "output_type": "execute_result"
    }
   ],
   "source": [
    "from fractions import Fraction\n",
    "myFra = Fraction(2,7)\n",
    "myFra"
   ]
  },
  {
   "cell_type": "markdown",
   "id": "e27bc83e-b14f-47f4-ad19-f03fa78f21bf",
   "metadata": {},
   "source": [
    "## SET"
   ]
  },
  {
   "cell_type": "code",
   "execution_count": 228,
   "id": "781db91a-c037-41ca-977f-3ef38306cf53",
   "metadata": {},
   "outputs": [],
   "source": [
    "set_one = {1, 2, 3, 4}"
   ]
  },
  {
   "cell_type": "code",
   "execution_count": 230,
   "id": "e6196710-55b4-40c6-9e51-3d74e33f1d23",
   "metadata": {},
   "outputs": [
    {
     "data": {
      "text/plain": [
       "{1, 3}"
      ]
     },
     "execution_count": 230,
     "metadata": {},
     "output_type": "execute_result"
    }
   ],
   "source": [
    "set_one & {1, 3}\n",
    "# For getting intersection use & sign"
   ]
  },
  {
   "cell_type": "code",
   "execution_count": 232,
   "id": "7197496d-9552-4ad9-9497-be40c8afb9eb",
   "metadata": {},
   "outputs": [
    {
     "data": {
      "text/plain": [
       "{1, 2, 3, 4, 5, 6, 7}"
      ]
     },
     "execution_count": 232,
     "metadata": {},
     "output_type": "execute_result"
    }
   ],
   "source": [
    "# To get union use the | sign\n",
    "set_one | {5, 6, 7}"
   ]
  },
  {
   "cell_type": "code",
   "execution_count": 234,
   "id": "60e78428-f049-464c-97f9-f49ef7acb49d",
   "metadata": {},
   "outputs": [
    {
     "data": {
      "text/plain": [
       "set()"
      ]
     },
     "execution_count": 234,
     "metadata": {},
     "output_type": "execute_result"
    }
   ],
   "source": [
    "set_one - {1, 3, 2, 4}"
   ]
  },
  {
   "cell_type": "code",
   "execution_count": 238,
   "id": "b0319fa6-d6f7-46f0-aac2-6a99af1952e4",
   "metadata": {},
   "outputs": [
    {
     "data": {
      "text/plain": [
       "dict"
      ]
     },
     "execution_count": 238,
     "metadata": {},
     "output_type": "execute_result"
    }
   ],
   "source": [
    "# here you do not get empty paranthesis\n",
    "# Because empty paranthesisi is dictionary(dict) in python\n",
    "type({})"
   ]
  },
  {
   "cell_type": "code",
   "execution_count": 240,
   "id": "2b914e36-16ea-48c0-9b41-0cc21f42f9b2",
   "metadata": {},
   "outputs": [
    {
     "data": {
      "text/plain": [
       "bool"
      ]
     },
     "execution_count": 240,
     "metadata": {},
     "output_type": "execute_result"
    }
   ],
   "source": [
    "type(True)"
   ]
  },
  {
   "cell_type": "code",
   "execution_count": 242,
   "id": "18c51490-2eb3-4c82-bb21-e4d8d64ed7a3",
   "metadata": {},
   "outputs": [
    {
     "data": {
      "text/plain": [
       "True"
      ]
     },
     "execution_count": 242,
     "metadata": {},
     "output_type": "execute_result"
    }
   ],
   "source": [
    "True == 1"
   ]
  },
  {
   "cell_type": "code",
   "execution_count": 244,
   "id": "ce8079ec-baa1-413a-8d6b-c47eaf2745b9",
   "metadata": {},
   "outputs": [
    {
     "data": {
      "text/plain": [
       "True"
      ]
     },
     "execution_count": 244,
     "metadata": {},
     "output_type": "execute_result"
    }
   ],
   "source": [
    "False == 0"
   ]
  },
  {
   "cell_type": "code",
   "execution_count": 246,
   "id": "e17093c5-6258-4c4c-8673-5a66fa76b282",
   "metadata": {},
   "outputs": [
    {
     "name": "stderr",
     "output_type": "stream",
     "text": [
      "<>:1: SyntaxWarning: \"is\" with 'int' literal. Did you mean \"==\"?\n",
      "<>:1: SyntaxWarning: \"is\" with 'int' literal. Did you mean \"==\"?\n",
      "C:\\Users\\souga\\AppData\\Local\\Temp\\ipykernel_30152\\812578685.py:1: SyntaxWarning: \"is\" with 'int' literal. Did you mean \"==\"?\n",
      "  True is 1\n"
     ]
    },
    {
     "data": {
      "text/plain": [
       "False"
      ]
     },
     "execution_count": 246,
     "metadata": {},
     "output_type": "execute_result"
    }
   ],
   "source": [
    "True is 1"
   ]
  },
  {
   "cell_type": "code",
   "execution_count": 248,
   "id": "8f8721cd-17e8-4f17-806f-3f70349e4f10",
   "metadata": {},
   "outputs": [
    {
     "data": {
      "text/plain": [
       "5"
      ]
     },
     "execution_count": 248,
     "metadata": {},
     "output_type": "execute_result"
    }
   ],
   "source": [
    "True + 4"
   ]
  },
  {
   "cell_type": "code",
   "execution_count": 251,
   "id": "16fac46c-0002-48b9-af5a-4dead4489657",
   "metadata": {},
   "outputs": [],
   "source": [
    "import random"
   ]
  },
  {
   "cell_type": "code",
   "execution_count": 273,
   "id": "68fb12fd-b5fc-468e-a921-dd9b4e418d7f",
   "metadata": {},
   "outputs": [
    {
     "data": {
      "text/plain": [
       "9"
      ]
     },
     "execution_count": 273,
     "metadata": {},
     "output_type": "execute_result"
    }
   ],
   "source": [
    "random.randint(5, 20)"
   ]
  },
  {
   "cell_type": "code",
   "execution_count": null,
   "id": "0975cc50-f98a-4999-af98-68762c8869d2",
   "metadata": {},
   "outputs": [],
   "source": []
  }
 ],
 "metadata": {
  "kernelspec": {
   "display_name": "Python 3 (ipykernel)",
   "language": "python",
   "name": "python3"
  },
  "language_info": {
   "codemirror_mode": {
    "name": "ipython",
    "version": 3
   },
   "file_extension": ".py",
   "mimetype": "text/x-python",
   "name": "python",
   "nbconvert_exporter": "python",
   "pygments_lexer": "ipython3",
   "version": "3.12.4"
  }
 },
 "nbformat": 4,
 "nbformat_minor": 5
}
